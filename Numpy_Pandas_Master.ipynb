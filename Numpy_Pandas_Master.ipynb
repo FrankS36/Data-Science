{
  "nbformat": 4,
  "nbformat_minor": 0,
  "metadata": {
    "colab": {
      "name": "Numpy_Pandas_Master.ipynb",
      "provenance": [],
      "authorship_tag": "ABX9TyOavHb5We0FlQxparFWxyz5",
      "include_colab_link": true
    },
    "kernelspec": {
      "name": "python3",
      "display_name": "Python 3"
    },
    "language_info": {
      "name": "python"
    }
  },
  "cells": [
    {
      "cell_type": "markdown",
      "metadata": {
        "id": "view-in-github",
        "colab_type": "text"
      },
      "source": [
        "<a href=\"https://colab.research.google.com/github/FrankS36/Data-Science/blob/main/Numpy_Pandas_Master.ipynb\" target=\"_parent\"><img src=\"https://colab.research.google.com/assets/colab-badge.svg\" alt=\"Open In Colab\"/></a>"
      ]
    },
    {
      "cell_type": "code",
      "metadata": {
        "id": "Pzq2hjRb1Eo-"
      },
      "source": [
        "import numpy as np # import np library because pandas sits on top\n",
        "import pandas as pd # alias to make ops easier\n",
        "import matplotlib.pyplot as plt\n",
        "%matplotlib inline"
      ],
      "execution_count": null,
      "outputs": []
    },
    {
      "cell_type": "code",
      "metadata": {
        "id": "WwfHQR531Wdq"
      },
      "source": [
        "# create a np series\n",
        "s = pd.Series([1, 2, 3, 4, np.nan, 5])"
      ],
      "execution_count": null,
      "outputs": []
    },
    {
      "cell_type": "code",
      "metadata": {
        "id": "CkUq3BdkjRqf"
      },
      "source": [
        ""
      ],
      "execution_count": null,
      "outputs": []
    },
    {
      "cell_type": "code",
      "metadata": {
        "colab": {
          "base_uri": "https://localhost:8080/"
        },
        "id": "6-x3tIRK10PB",
        "outputId": "58949992-e604-4541-fd80-3b16363a8cdf"
      },
      "source": [
        "print(s)"
      ],
      "execution_count": null,
      "outputs": [
        {
          "output_type": "stream",
          "name": "stdout",
          "text": [
            "0    1.0\n",
            "1    2.0\n",
            "2    3.0\n",
            "3    4.0\n",
            "4    NaN\n",
            "5    5.0\n",
            "dtype: float64\n"
          ]
        }
      ]
    },
    {
      "cell_type": "code",
      "metadata": {
        "id": "DiDGsD1P18lQ"
      },
      "source": [
        "# create a dataframe\n",
        "dates = pd.date_range('20130101',periods=6)\n",
        "df = pd.DataFrame(np.random.randn(6,4), index=dates, columns=list('ABCD'))"
      ],
      "execution_count": null,
      "outputs": []
    },
    {
      "cell_type": "code",
      "metadata": {
        "colab": {
          "base_uri": "https://localhost:8080/",
          "height": 232
        },
        "id": "SyUkYE8Y2rG0",
        "outputId": "77cb627c-38bc-417c-8786-0902b43ad8c2"
      },
      "source": [
        "df"
      ],
      "execution_count": null,
      "outputs": [
        {
          "output_type": "execute_result",
          "data": {
            "text/html": [
              "<div>\n",
              "<style scoped>\n",
              "    .dataframe tbody tr th:only-of-type {\n",
              "        vertical-align: middle;\n",
              "    }\n",
              "\n",
              "    .dataframe tbody tr th {\n",
              "        vertical-align: top;\n",
              "    }\n",
              "\n",
              "    .dataframe thead th {\n",
              "        text-align: right;\n",
              "    }\n",
              "</style>\n",
              "<table border=\"1\" class=\"dataframe\">\n",
              "  <thead>\n",
              "    <tr style=\"text-align: right;\">\n",
              "      <th></th>\n",
              "      <th>A</th>\n",
              "      <th>B</th>\n",
              "      <th>C</th>\n",
              "      <th>D</th>\n",
              "    </tr>\n",
              "  </thead>\n",
              "  <tbody>\n",
              "    <tr>\n",
              "      <th>2013-01-01</th>\n",
              "      <td>-1.121417</td>\n",
              "      <td>-1.625271</td>\n",
              "      <td>1.593658</td>\n",
              "      <td>0.363895</td>\n",
              "    </tr>\n",
              "    <tr>\n",
              "      <th>2013-01-02</th>\n",
              "      <td>1.362100</td>\n",
              "      <td>-0.718586</td>\n",
              "      <td>0.323402</td>\n",
              "      <td>0.445226</td>\n",
              "    </tr>\n",
              "    <tr>\n",
              "      <th>2013-01-03</th>\n",
              "      <td>-0.721894</td>\n",
              "      <td>-0.129189</td>\n",
              "      <td>0.635445</td>\n",
              "      <td>0.286293</td>\n",
              "    </tr>\n",
              "    <tr>\n",
              "      <th>2013-01-04</th>\n",
              "      <td>0.830970</td>\n",
              "      <td>1.271088</td>\n",
              "      <td>0.565128</td>\n",
              "      <td>-2.286099</td>\n",
              "    </tr>\n",
              "    <tr>\n",
              "      <th>2013-01-05</th>\n",
              "      <td>0.034580</td>\n",
              "      <td>0.687587</td>\n",
              "      <td>0.867039</td>\n",
              "      <td>-0.639018</td>\n",
              "    </tr>\n",
              "    <tr>\n",
              "      <th>2013-01-06</th>\n",
              "      <td>1.043027</td>\n",
              "      <td>2.792817</td>\n",
              "      <td>-1.487700</td>\n",
              "      <td>2.115957</td>\n",
              "    </tr>\n",
              "  </tbody>\n",
              "</table>\n",
              "</div>"
            ],
            "text/plain": [
              "                   A         B         C         D\n",
              "2013-01-01 -1.121417 -1.625271  1.593658  0.363895\n",
              "2013-01-02  1.362100 -0.718586  0.323402  0.445226\n",
              "2013-01-03 -0.721894 -0.129189  0.635445  0.286293\n",
              "2013-01-04  0.830970  1.271088  0.565128 -2.286099\n",
              "2013-01-05  0.034580  0.687587  0.867039 -0.639018\n",
              "2013-01-06  1.043027  2.792817 -1.487700  2.115957"
            ]
          },
          "metadata": {},
          "execution_count": 8
        }
      ]
    },
    {
      "cell_type": "code",
      "metadata": {
        "id": "sccircZB3QXA"
      },
      "source": [
        "# notes on date range"
      ],
      "execution_count": null,
      "outputs": []
    },
    {
      "cell_type": "code",
      "metadata": {
        "colab": {
          "base_uri": "https://localhost:8080/",
          "height": 171
        },
        "id": "yvd6u1hv3_rn",
        "outputId": "2210dd72-b65e-4dd1-d3be-57ed642c0da6"
      },
      "source": [
        "# another way to create a df\n",
        "df2 = pd.DataFrame(\n",
        "    { 'A' : 1., \n",
        "      'B' : pd.Timestamp('20130102'), \n",
        "      'C' : pd.Series(1, index=list(range(4)), dtype='float'),\n",
        "      'D' : np.array([3] * 4, dtype='int32'),\n",
        "      'E' : 'foo' })\n",
        "df2"
      ],
      "execution_count": null,
      "outputs": [
        {
          "output_type": "execute_result",
          "data": {
            "text/html": [
              "<div>\n",
              "<style scoped>\n",
              "    .dataframe tbody tr th:only-of-type {\n",
              "        vertical-align: middle;\n",
              "    }\n",
              "\n",
              "    .dataframe tbody tr th {\n",
              "        vertical-align: top;\n",
              "    }\n",
              "\n",
              "    .dataframe thead th {\n",
              "        text-align: right;\n",
              "    }\n",
              "</style>\n",
              "<table border=\"1\" class=\"dataframe\">\n",
              "  <thead>\n",
              "    <tr style=\"text-align: right;\">\n",
              "      <th></th>\n",
              "      <th>A</th>\n",
              "      <th>B</th>\n",
              "      <th>C</th>\n",
              "      <th>D</th>\n",
              "      <th>E</th>\n",
              "    </tr>\n",
              "  </thead>\n",
              "  <tbody>\n",
              "    <tr>\n",
              "      <th>0</th>\n",
              "      <td>1.0</td>\n",
              "      <td>2013-01-02</td>\n",
              "      <td>1.0</td>\n",
              "      <td>3</td>\n",
              "      <td>foo</td>\n",
              "    </tr>\n",
              "    <tr>\n",
              "      <th>1</th>\n",
              "      <td>1.0</td>\n",
              "      <td>2013-01-02</td>\n",
              "      <td>1.0</td>\n",
              "      <td>3</td>\n",
              "      <td>foo</td>\n",
              "    </tr>\n",
              "    <tr>\n",
              "      <th>2</th>\n",
              "      <td>1.0</td>\n",
              "      <td>2013-01-02</td>\n",
              "      <td>1.0</td>\n",
              "      <td>3</td>\n",
              "      <td>foo</td>\n",
              "    </tr>\n",
              "    <tr>\n",
              "      <th>3</th>\n",
              "      <td>1.0</td>\n",
              "      <td>2013-01-02</td>\n",
              "      <td>1.0</td>\n",
              "      <td>3</td>\n",
              "      <td>foo</td>\n",
              "    </tr>\n",
              "  </tbody>\n",
              "</table>\n",
              "</div>"
            ],
            "text/plain": [
              "     A          B    C  D    E\n",
              "0  1.0 2013-01-02  1.0  3  foo\n",
              "1  1.0 2013-01-02  1.0  3  foo\n",
              "2  1.0 2013-01-02  1.0  3  foo\n",
              "3  1.0 2013-01-02  1.0  3  foo"
            ]
          },
          "metadata": {},
          "execution_count": 10
        }
      ]
    },
    {
      "cell_type": "code",
      "metadata": {
        "colab": {
          "base_uri": "https://localhost:8080/"
        },
        "id": "13RnHcot5bPN",
        "outputId": "ab231b63-175e-413f-bdcb-ef76168162a7"
      },
      "source": [
        "df2.dtypes"
      ],
      "execution_count": null,
      "outputs": [
        {
          "output_type": "execute_result",
          "data": {
            "text/plain": [
              "A           float64\n",
              "B    datetime64[ns]\n",
              "C           float64\n",
              "D             int32\n",
              "E            object\n",
              "dtype: object"
            ]
          },
          "metadata": {},
          "execution_count": 11
        }
      ]
    },
    {
      "cell_type": "code",
      "metadata": {
        "colab": {
          "base_uri": "https://localhost:8080/",
          "height": 202
        },
        "id": "q1RRpxNC5nlG",
        "outputId": "cbee10bc-be56-4b86-fbb2-4220bff0a3f6"
      },
      "source": [
        "# df head to look at first 5 rows\n",
        "# can pass a number in parenthesis to specify diff. number of rows\n",
        "df.head()"
      ],
      "execution_count": null,
      "outputs": [
        {
          "output_type": "execute_result",
          "data": {
            "text/html": [
              "<div>\n",
              "<style scoped>\n",
              "    .dataframe tbody tr th:only-of-type {\n",
              "        vertical-align: middle;\n",
              "    }\n",
              "\n",
              "    .dataframe tbody tr th {\n",
              "        vertical-align: top;\n",
              "    }\n",
              "\n",
              "    .dataframe thead th {\n",
              "        text-align: right;\n",
              "    }\n",
              "</style>\n",
              "<table border=\"1\" class=\"dataframe\">\n",
              "  <thead>\n",
              "    <tr style=\"text-align: right;\">\n",
              "      <th></th>\n",
              "      <th>A</th>\n",
              "      <th>B</th>\n",
              "      <th>C</th>\n",
              "      <th>D</th>\n",
              "    </tr>\n",
              "  </thead>\n",
              "  <tbody>\n",
              "    <tr>\n",
              "      <th>2013-01-01</th>\n",
              "      <td>-1.121417</td>\n",
              "      <td>-1.625271</td>\n",
              "      <td>1.593658</td>\n",
              "      <td>0.363895</td>\n",
              "    </tr>\n",
              "    <tr>\n",
              "      <th>2013-01-02</th>\n",
              "      <td>1.362100</td>\n",
              "      <td>-0.718586</td>\n",
              "      <td>0.323402</td>\n",
              "      <td>0.445226</td>\n",
              "    </tr>\n",
              "    <tr>\n",
              "      <th>2013-01-03</th>\n",
              "      <td>-0.721894</td>\n",
              "      <td>-0.129189</td>\n",
              "      <td>0.635445</td>\n",
              "      <td>0.286293</td>\n",
              "    </tr>\n",
              "    <tr>\n",
              "      <th>2013-01-04</th>\n",
              "      <td>0.830970</td>\n",
              "      <td>1.271088</td>\n",
              "      <td>0.565128</td>\n",
              "      <td>-2.286099</td>\n",
              "    </tr>\n",
              "    <tr>\n",
              "      <th>2013-01-05</th>\n",
              "      <td>0.034580</td>\n",
              "      <td>0.687587</td>\n",
              "      <td>0.867039</td>\n",
              "      <td>-0.639018</td>\n",
              "    </tr>\n",
              "  </tbody>\n",
              "</table>\n",
              "</div>"
            ],
            "text/plain": [
              "                   A         B         C         D\n",
              "2013-01-01 -1.121417 -1.625271  1.593658  0.363895\n",
              "2013-01-02  1.362100 -0.718586  0.323402  0.445226\n",
              "2013-01-03 -0.721894 -0.129189  0.635445  0.286293\n",
              "2013-01-04  0.830970  1.271088  0.565128 -2.286099\n",
              "2013-01-05  0.034580  0.687587  0.867039 -0.639018"
            ]
          },
          "metadata": {},
          "execution_count": 12
        }
      ]
    },
    {
      "cell_type": "code",
      "metadata": {
        "colab": {
          "base_uri": "https://localhost:8080/"
        },
        "id": "TjGiy5In5s2Z",
        "outputId": "1d7d40ce-060a-4ca0-8103-7c59468879e7"
      },
      "source": [
        "df.index"
      ],
      "execution_count": null,
      "outputs": [
        {
          "output_type": "execute_result",
          "data": {
            "text/plain": [
              "DatetimeIndex(['2013-01-01', '2013-01-02', '2013-01-03', '2013-01-04',\n",
              "               '2013-01-05', '2013-01-06'],\n",
              "              dtype='datetime64[ns]', freq='D')"
            ]
          },
          "metadata": {},
          "execution_count": 13
        }
      ]
    },
    {
      "cell_type": "code",
      "metadata": {
        "colab": {
          "base_uri": "https://localhost:8080/"
        },
        "id": "wRZOwo7e52wP",
        "outputId": "a34d98c5-61b6-4633-8fdf-1d33e4c1322f"
      },
      "source": [
        "df.columns"
      ],
      "execution_count": null,
      "outputs": [
        {
          "output_type": "execute_result",
          "data": {
            "text/plain": [
              "Index(['A', 'B', 'C', 'D'], dtype='object')"
            ]
          },
          "metadata": {},
          "execution_count": 14
        }
      ]
    },
    {
      "cell_type": "code",
      "metadata": {
        "colab": {
          "base_uri": "https://localhost:8080/"
        },
        "id": "7os-gCOk55Kq",
        "outputId": "bdbccd53-dfac-4710-db9e-8a1d86b3c033"
      },
      "source": [
        "df.values"
      ],
      "execution_count": null,
      "outputs": [
        {
          "output_type": "execute_result",
          "data": {
            "text/plain": [
              "array([[-1.12141674, -1.62527051,  1.59365807,  0.3638953 ],\n",
              "       [ 1.36209968, -0.71858626,  0.32340239,  0.44522641],\n",
              "       [-0.72189358, -0.12918935,  0.63544479,  0.28629295],\n",
              "       [ 0.8309698 ,  1.27108789,  0.56512756, -2.28609856],\n",
              "       [ 0.03458013,  0.68758658,  0.867039  , -0.63901805],\n",
              "       [ 1.04302737,  2.79281683, -1.48770003,  2.11595674]])"
            ]
          },
          "metadata": {},
          "execution_count": 15
        }
      ]
    },
    {
      "cell_type": "code",
      "metadata": {
        "colab": {
          "base_uri": "https://localhost:8080/"
        },
        "id": "m6BzZ7Kc6Tes",
        "outputId": "ec3fdef3-f45c-4d76-994a-8ad634bfafa6"
      },
      "source": [
        "df.describe"
      ],
      "execution_count": null,
      "outputs": [
        {
          "output_type": "execute_result",
          "data": {
            "text/plain": [
              "<bound method NDFrame.describe of                    A         B         C         D\n",
              "2013-01-01 -1.121417 -1.625271  1.593658  0.363895\n",
              "2013-01-02  1.362100 -0.718586  0.323402  0.445226\n",
              "2013-01-03 -0.721894 -0.129189  0.635445  0.286293\n",
              "2013-01-04  0.830970  1.271088  0.565128 -2.286099\n",
              "2013-01-05  0.034580  0.687587  0.867039 -0.639018\n",
              "2013-01-06  1.043027  2.792817 -1.487700  2.115957>"
            ]
          },
          "metadata": {},
          "execution_count": 16
        }
      ]
    },
    {
      "cell_type": "code",
      "metadata": {
        "colab": {
          "base_uri": "https://localhost:8080/",
          "height": 294
        },
        "id": "is-RrMR66bcX",
        "outputId": "8d15d866-8d9b-4bfd-afec-f9844a69559c"
      },
      "source": [
        "df.describe()"
      ],
      "execution_count": null,
      "outputs": [
        {
          "output_type": "execute_result",
          "data": {
            "text/html": [
              "<div>\n",
              "<style scoped>\n",
              "    .dataframe tbody tr th:only-of-type {\n",
              "        vertical-align: middle;\n",
              "    }\n",
              "\n",
              "    .dataframe tbody tr th {\n",
              "        vertical-align: top;\n",
              "    }\n",
              "\n",
              "    .dataframe thead th {\n",
              "        text-align: right;\n",
              "    }\n",
              "</style>\n",
              "<table border=\"1\" class=\"dataframe\">\n",
              "  <thead>\n",
              "    <tr style=\"text-align: right;\">\n",
              "      <th></th>\n",
              "      <th>A</th>\n",
              "      <th>B</th>\n",
              "      <th>C</th>\n",
              "      <th>D</th>\n",
              "    </tr>\n",
              "  </thead>\n",
              "  <tbody>\n",
              "    <tr>\n",
              "      <th>count</th>\n",
              "      <td>6.000000</td>\n",
              "      <td>6.000000</td>\n",
              "      <td>6.000000</td>\n",
              "      <td>6.000000</td>\n",
              "    </tr>\n",
              "    <tr>\n",
              "      <th>mean</th>\n",
              "      <td>0.237894</td>\n",
              "      <td>0.379741</td>\n",
              "      <td>0.416162</td>\n",
              "      <td>0.047709</td>\n",
              "    </tr>\n",
              "    <tr>\n",
              "      <th>std</th>\n",
              "      <td>1.007380</td>\n",
              "      <td>1.561897</td>\n",
              "      <td>1.028918</td>\n",
              "      <td>1.449884</td>\n",
              "    </tr>\n",
              "    <tr>\n",
              "      <th>min</th>\n",
              "      <td>-1.121417</td>\n",
              "      <td>-1.625271</td>\n",
              "      <td>-1.487700</td>\n",
              "      <td>-2.286099</td>\n",
              "    </tr>\n",
              "    <tr>\n",
              "      <th>25%</th>\n",
              "      <td>-0.532775</td>\n",
              "      <td>-0.571237</td>\n",
              "      <td>0.383834</td>\n",
              "      <td>-0.407690</td>\n",
              "    </tr>\n",
              "    <tr>\n",
              "      <th>50%</th>\n",
              "      <td>0.432775</td>\n",
              "      <td>0.279199</td>\n",
              "      <td>0.600286</td>\n",
              "      <td>0.325094</td>\n",
              "    </tr>\n",
              "    <tr>\n",
              "      <th>75%</th>\n",
              "      <td>0.990013</td>\n",
              "      <td>1.125213</td>\n",
              "      <td>0.809140</td>\n",
              "      <td>0.424894</td>\n",
              "    </tr>\n",
              "    <tr>\n",
              "      <th>max</th>\n",
              "      <td>1.362100</td>\n",
              "      <td>2.792817</td>\n",
              "      <td>1.593658</td>\n",
              "      <td>2.115957</td>\n",
              "    </tr>\n",
              "  </tbody>\n",
              "</table>\n",
              "</div>"
            ],
            "text/plain": [
              "              A         B         C         D\n",
              "count  6.000000  6.000000  6.000000  6.000000\n",
              "mean   0.237894  0.379741  0.416162  0.047709\n",
              "std    1.007380  1.561897  1.028918  1.449884\n",
              "min   -1.121417 -1.625271 -1.487700 -2.286099\n",
              "25%   -0.532775 -0.571237  0.383834 -0.407690\n",
              "50%    0.432775  0.279199  0.600286  0.325094\n",
              "75%    0.990013  1.125213  0.809140  0.424894\n",
              "max    1.362100  2.792817  1.593658  2.115957"
            ]
          },
          "metadata": {},
          "execution_count": 17
        }
      ]
    },
    {
      "cell_type": "code",
      "metadata": {
        "colab": {
          "base_uri": "https://localhost:8080/",
          "height": 171
        },
        "id": "u6vPvilJ6fuu",
        "outputId": "597010e4-bbe2-471e-e2da-ec4223a99abf"
      },
      "source": [
        "df.describe().T"
      ],
      "execution_count": null,
      "outputs": [
        {
          "output_type": "execute_result",
          "data": {
            "text/html": [
              "<div>\n",
              "<style scoped>\n",
              "    .dataframe tbody tr th:only-of-type {\n",
              "        vertical-align: middle;\n",
              "    }\n",
              "\n",
              "    .dataframe tbody tr th {\n",
              "        vertical-align: top;\n",
              "    }\n",
              "\n",
              "    .dataframe thead th {\n",
              "        text-align: right;\n",
              "    }\n",
              "</style>\n",
              "<table border=\"1\" class=\"dataframe\">\n",
              "  <thead>\n",
              "    <tr style=\"text-align: right;\">\n",
              "      <th></th>\n",
              "      <th>count</th>\n",
              "      <th>mean</th>\n",
              "      <th>std</th>\n",
              "      <th>min</th>\n",
              "      <th>25%</th>\n",
              "      <th>50%</th>\n",
              "      <th>75%</th>\n",
              "      <th>max</th>\n",
              "    </tr>\n",
              "  </thead>\n",
              "  <tbody>\n",
              "    <tr>\n",
              "      <th>A</th>\n",
              "      <td>6.0</td>\n",
              "      <td>0.237894</td>\n",
              "      <td>1.007380</td>\n",
              "      <td>-1.121417</td>\n",
              "      <td>-0.532775</td>\n",
              "      <td>0.432775</td>\n",
              "      <td>0.990013</td>\n",
              "      <td>1.362100</td>\n",
              "    </tr>\n",
              "    <tr>\n",
              "      <th>B</th>\n",
              "      <td>6.0</td>\n",
              "      <td>0.379741</td>\n",
              "      <td>1.561897</td>\n",
              "      <td>-1.625271</td>\n",
              "      <td>-0.571237</td>\n",
              "      <td>0.279199</td>\n",
              "      <td>1.125213</td>\n",
              "      <td>2.792817</td>\n",
              "    </tr>\n",
              "    <tr>\n",
              "      <th>C</th>\n",
              "      <td>6.0</td>\n",
              "      <td>0.416162</td>\n",
              "      <td>1.028918</td>\n",
              "      <td>-1.487700</td>\n",
              "      <td>0.383834</td>\n",
              "      <td>0.600286</td>\n",
              "      <td>0.809140</td>\n",
              "      <td>1.593658</td>\n",
              "    </tr>\n",
              "    <tr>\n",
              "      <th>D</th>\n",
              "      <td>6.0</td>\n",
              "      <td>0.047709</td>\n",
              "      <td>1.449884</td>\n",
              "      <td>-2.286099</td>\n",
              "      <td>-0.407690</td>\n",
              "      <td>0.325094</td>\n",
              "      <td>0.424894</td>\n",
              "      <td>2.115957</td>\n",
              "    </tr>\n",
              "  </tbody>\n",
              "</table>\n",
              "</div>"
            ],
            "text/plain": [
              "   count      mean       std       min       25%       50%       75%       max\n",
              "A    6.0  0.237894  1.007380 -1.121417 -0.532775  0.432775  0.990013  1.362100\n",
              "B    6.0  0.379741  1.561897 -1.625271 -0.571237  0.279199  1.125213  2.792817\n",
              "C    6.0  0.416162  1.028918 -1.487700  0.383834  0.600286  0.809140  1.593658\n",
              "D    6.0  0.047709  1.449884 -2.286099 -0.407690  0.325094  0.424894  2.115957"
            ]
          },
          "metadata": {},
          "execution_count": 18
        }
      ]
    },
    {
      "cell_type": "code",
      "metadata": {
        "colab": {
          "base_uri": "https://localhost:8080/",
          "height": 232
        },
        "id": "aqwKBMo46sww",
        "outputId": "908487b6-a318-4a8e-f477-ed71de224444"
      },
      "source": [
        "# we can transpose the df\n",
        "# this is the original view\n",
        "df"
      ],
      "execution_count": null,
      "outputs": [
        {
          "output_type": "execute_result",
          "data": {
            "text/html": [
              "<div>\n",
              "<style scoped>\n",
              "    .dataframe tbody tr th:only-of-type {\n",
              "        vertical-align: middle;\n",
              "    }\n",
              "\n",
              "    .dataframe tbody tr th {\n",
              "        vertical-align: top;\n",
              "    }\n",
              "\n",
              "    .dataframe thead th {\n",
              "        text-align: right;\n",
              "    }\n",
              "</style>\n",
              "<table border=\"1\" class=\"dataframe\">\n",
              "  <thead>\n",
              "    <tr style=\"text-align: right;\">\n",
              "      <th></th>\n",
              "      <th>A</th>\n",
              "      <th>B</th>\n",
              "      <th>C</th>\n",
              "      <th>D</th>\n",
              "    </tr>\n",
              "  </thead>\n",
              "  <tbody>\n",
              "    <tr>\n",
              "      <th>2013-01-01</th>\n",
              "      <td>-1.121417</td>\n",
              "      <td>-1.625271</td>\n",
              "      <td>1.593658</td>\n",
              "      <td>0.363895</td>\n",
              "    </tr>\n",
              "    <tr>\n",
              "      <th>2013-01-02</th>\n",
              "      <td>1.362100</td>\n",
              "      <td>-0.718586</td>\n",
              "      <td>0.323402</td>\n",
              "      <td>0.445226</td>\n",
              "    </tr>\n",
              "    <tr>\n",
              "      <th>2013-01-03</th>\n",
              "      <td>-0.721894</td>\n",
              "      <td>-0.129189</td>\n",
              "      <td>0.635445</td>\n",
              "      <td>0.286293</td>\n",
              "    </tr>\n",
              "    <tr>\n",
              "      <th>2013-01-04</th>\n",
              "      <td>0.830970</td>\n",
              "      <td>1.271088</td>\n",
              "      <td>0.565128</td>\n",
              "      <td>-2.286099</td>\n",
              "    </tr>\n",
              "    <tr>\n",
              "      <th>2013-01-05</th>\n",
              "      <td>0.034580</td>\n",
              "      <td>0.687587</td>\n",
              "      <td>0.867039</td>\n",
              "      <td>-0.639018</td>\n",
              "    </tr>\n",
              "    <tr>\n",
              "      <th>2013-01-06</th>\n",
              "      <td>1.043027</td>\n",
              "      <td>2.792817</td>\n",
              "      <td>-1.487700</td>\n",
              "      <td>2.115957</td>\n",
              "    </tr>\n",
              "  </tbody>\n",
              "</table>\n",
              "</div>"
            ],
            "text/plain": [
              "                   A         B         C         D\n",
              "2013-01-01 -1.121417 -1.625271  1.593658  0.363895\n",
              "2013-01-02  1.362100 -0.718586  0.323402  0.445226\n",
              "2013-01-03 -0.721894 -0.129189  0.635445  0.286293\n",
              "2013-01-04  0.830970  1.271088  0.565128 -2.286099\n",
              "2013-01-05  0.034580  0.687587  0.867039 -0.639018\n",
              "2013-01-06  1.043027  2.792817 -1.487700  2.115957"
            ]
          },
          "metadata": {},
          "execution_count": 19
        }
      ]
    },
    {
      "cell_type": "code",
      "metadata": {
        "colab": {
          "base_uri": "https://localhost:8080/",
          "height": 171
        },
        "id": "08FsaNw-6inN",
        "outputId": "e7c49d69-e0d3-4e01-d37c-44f366ba37e7"
      },
      "source": [
        "# transpose the dataframe\n",
        "df.T\n",
        "# this is the view after transposing"
      ],
      "execution_count": null,
      "outputs": [
        {
          "output_type": "execute_result",
          "data": {
            "text/html": [
              "<div>\n",
              "<style scoped>\n",
              "    .dataframe tbody tr th:only-of-type {\n",
              "        vertical-align: middle;\n",
              "    }\n",
              "\n",
              "    .dataframe tbody tr th {\n",
              "        vertical-align: top;\n",
              "    }\n",
              "\n",
              "    .dataframe thead th {\n",
              "        text-align: right;\n",
              "    }\n",
              "</style>\n",
              "<table border=\"1\" class=\"dataframe\">\n",
              "  <thead>\n",
              "    <tr style=\"text-align: right;\">\n",
              "      <th></th>\n",
              "      <th>2013-01-01</th>\n",
              "      <th>2013-01-02</th>\n",
              "      <th>2013-01-03</th>\n",
              "      <th>2013-01-04</th>\n",
              "      <th>2013-01-05</th>\n",
              "      <th>2013-01-06</th>\n",
              "    </tr>\n",
              "  </thead>\n",
              "  <tbody>\n",
              "    <tr>\n",
              "      <th>A</th>\n",
              "      <td>-1.121417</td>\n",
              "      <td>1.362100</td>\n",
              "      <td>-0.721894</td>\n",
              "      <td>0.830970</td>\n",
              "      <td>0.034580</td>\n",
              "      <td>1.043027</td>\n",
              "    </tr>\n",
              "    <tr>\n",
              "      <th>B</th>\n",
              "      <td>-1.625271</td>\n",
              "      <td>-0.718586</td>\n",
              "      <td>-0.129189</td>\n",
              "      <td>1.271088</td>\n",
              "      <td>0.687587</td>\n",
              "      <td>2.792817</td>\n",
              "    </tr>\n",
              "    <tr>\n",
              "      <th>C</th>\n",
              "      <td>1.593658</td>\n",
              "      <td>0.323402</td>\n",
              "      <td>0.635445</td>\n",
              "      <td>0.565128</td>\n",
              "      <td>0.867039</td>\n",
              "      <td>-1.487700</td>\n",
              "    </tr>\n",
              "    <tr>\n",
              "      <th>D</th>\n",
              "      <td>0.363895</td>\n",
              "      <td>0.445226</td>\n",
              "      <td>0.286293</td>\n",
              "      <td>-2.286099</td>\n",
              "      <td>-0.639018</td>\n",
              "      <td>2.115957</td>\n",
              "    </tr>\n",
              "  </tbody>\n",
              "</table>\n",
              "</div>"
            ],
            "text/plain": [
              "   2013-01-01  2013-01-02  2013-01-03  2013-01-04  2013-01-05  2013-01-06\n",
              "A   -1.121417    1.362100   -0.721894    0.830970    0.034580    1.043027\n",
              "B   -1.625271   -0.718586   -0.129189    1.271088    0.687587    2.792817\n",
              "C    1.593658    0.323402    0.635445    0.565128    0.867039   -1.487700\n",
              "D    0.363895    0.445226    0.286293   -2.286099   -0.639018    2.115957"
            ]
          },
          "metadata": {},
          "execution_count": 20
        }
      ]
    },
    {
      "cell_type": "code",
      "metadata": {
        "colab": {
          "base_uri": "https://localhost:8080/",
          "height": 232
        },
        "id": "cCM9BYF46nOg",
        "outputId": "d9425d25-4d20-4ca2-ee79-f8f469ee6d43"
      },
      "source": [
        "# we can also sort the df on the index\n",
        "# axis 1 is for columns\n",
        "df.sort_index(axis=1, ascending=False)"
      ],
      "execution_count": null,
      "outputs": [
        {
          "output_type": "execute_result",
          "data": {
            "text/html": [
              "<div>\n",
              "<style scoped>\n",
              "    .dataframe tbody tr th:only-of-type {\n",
              "        vertical-align: middle;\n",
              "    }\n",
              "\n",
              "    .dataframe tbody tr th {\n",
              "        vertical-align: top;\n",
              "    }\n",
              "\n",
              "    .dataframe thead th {\n",
              "        text-align: right;\n",
              "    }\n",
              "</style>\n",
              "<table border=\"1\" class=\"dataframe\">\n",
              "  <thead>\n",
              "    <tr style=\"text-align: right;\">\n",
              "      <th></th>\n",
              "      <th>D</th>\n",
              "      <th>C</th>\n",
              "      <th>B</th>\n",
              "      <th>A</th>\n",
              "    </tr>\n",
              "  </thead>\n",
              "  <tbody>\n",
              "    <tr>\n",
              "      <th>2013-01-01</th>\n",
              "      <td>0.363895</td>\n",
              "      <td>1.593658</td>\n",
              "      <td>-1.625271</td>\n",
              "      <td>-1.121417</td>\n",
              "    </tr>\n",
              "    <tr>\n",
              "      <th>2013-01-02</th>\n",
              "      <td>0.445226</td>\n",
              "      <td>0.323402</td>\n",
              "      <td>-0.718586</td>\n",
              "      <td>1.362100</td>\n",
              "    </tr>\n",
              "    <tr>\n",
              "      <th>2013-01-03</th>\n",
              "      <td>0.286293</td>\n",
              "      <td>0.635445</td>\n",
              "      <td>-0.129189</td>\n",
              "      <td>-0.721894</td>\n",
              "    </tr>\n",
              "    <tr>\n",
              "      <th>2013-01-04</th>\n",
              "      <td>-2.286099</td>\n",
              "      <td>0.565128</td>\n",
              "      <td>1.271088</td>\n",
              "      <td>0.830970</td>\n",
              "    </tr>\n",
              "    <tr>\n",
              "      <th>2013-01-05</th>\n",
              "      <td>-0.639018</td>\n",
              "      <td>0.867039</td>\n",
              "      <td>0.687587</td>\n",
              "      <td>0.034580</td>\n",
              "    </tr>\n",
              "    <tr>\n",
              "      <th>2013-01-06</th>\n",
              "      <td>2.115957</td>\n",
              "      <td>-1.487700</td>\n",
              "      <td>2.792817</td>\n",
              "      <td>1.043027</td>\n",
              "    </tr>\n",
              "  </tbody>\n",
              "</table>\n",
              "</div>"
            ],
            "text/plain": [
              "                   D         C         B         A\n",
              "2013-01-01  0.363895  1.593658 -1.625271 -1.121417\n",
              "2013-01-02  0.445226  0.323402 -0.718586  1.362100\n",
              "2013-01-03  0.286293  0.635445 -0.129189 -0.721894\n",
              "2013-01-04 -2.286099  0.565128  1.271088  0.830970\n",
              "2013-01-05 -0.639018  0.867039  0.687587  0.034580\n",
              "2013-01-06  2.115957 -1.487700  2.792817  1.043027"
            ]
          },
          "metadata": {},
          "execution_count": 21
        }
      ]
    },
    {
      "cell_type": "code",
      "metadata": {
        "colab": {
          "base_uri": "https://localhost:8080/",
          "height": 171
        },
        "id": "NwcqMGfG7FqD",
        "outputId": "8f5d384f-affc-42bd-e112-31ebd93fcdf9"
      },
      "source": [
        "# axis 0 is for rows\n",
        "df.T.sort_index(axis=0, ascending=False)"
      ],
      "execution_count": null,
      "outputs": [
        {
          "output_type": "execute_result",
          "data": {
            "text/html": [
              "<div>\n",
              "<style scoped>\n",
              "    .dataframe tbody tr th:only-of-type {\n",
              "        vertical-align: middle;\n",
              "    }\n",
              "\n",
              "    .dataframe tbody tr th {\n",
              "        vertical-align: top;\n",
              "    }\n",
              "\n",
              "    .dataframe thead th {\n",
              "        text-align: right;\n",
              "    }\n",
              "</style>\n",
              "<table border=\"1\" class=\"dataframe\">\n",
              "  <thead>\n",
              "    <tr style=\"text-align: right;\">\n",
              "      <th></th>\n",
              "      <th>2013-01-01</th>\n",
              "      <th>2013-01-02</th>\n",
              "      <th>2013-01-03</th>\n",
              "      <th>2013-01-04</th>\n",
              "      <th>2013-01-05</th>\n",
              "      <th>2013-01-06</th>\n",
              "    </tr>\n",
              "  </thead>\n",
              "  <tbody>\n",
              "    <tr>\n",
              "      <th>D</th>\n",
              "      <td>0.363895</td>\n",
              "      <td>0.445226</td>\n",
              "      <td>0.286293</td>\n",
              "      <td>-2.286099</td>\n",
              "      <td>-0.639018</td>\n",
              "      <td>2.115957</td>\n",
              "    </tr>\n",
              "    <tr>\n",
              "      <th>C</th>\n",
              "      <td>1.593658</td>\n",
              "      <td>0.323402</td>\n",
              "      <td>0.635445</td>\n",
              "      <td>0.565128</td>\n",
              "      <td>0.867039</td>\n",
              "      <td>-1.487700</td>\n",
              "    </tr>\n",
              "    <tr>\n",
              "      <th>B</th>\n",
              "      <td>-1.625271</td>\n",
              "      <td>-0.718586</td>\n",
              "      <td>-0.129189</td>\n",
              "      <td>1.271088</td>\n",
              "      <td>0.687587</td>\n",
              "      <td>2.792817</td>\n",
              "    </tr>\n",
              "    <tr>\n",
              "      <th>A</th>\n",
              "      <td>-1.121417</td>\n",
              "      <td>1.362100</td>\n",
              "      <td>-0.721894</td>\n",
              "      <td>0.830970</td>\n",
              "      <td>0.034580</td>\n",
              "      <td>1.043027</td>\n",
              "    </tr>\n",
              "  </tbody>\n",
              "</table>\n",
              "</div>"
            ],
            "text/plain": [
              "   2013-01-01  2013-01-02  2013-01-03  2013-01-04  2013-01-05  2013-01-06\n",
              "D    0.363895    0.445226    0.286293   -2.286099   -0.639018    2.115957\n",
              "C    1.593658    0.323402    0.635445    0.565128    0.867039   -1.487700\n",
              "B   -1.625271   -0.718586   -0.129189    1.271088    0.687587    2.792817\n",
              "A   -1.121417    1.362100   -0.721894    0.830970    0.034580    1.043027"
            ]
          },
          "metadata": {},
          "execution_count": 22
        }
      ]
    },
    {
      "cell_type": "code",
      "metadata": {
        "colab": {
          "base_uri": "https://localhost:8080/",
          "height": 232
        },
        "id": "NkE6uu9A7QRf",
        "outputId": "b6d65f4a-4de8-4e99-eb48-55236de97413"
      },
      "source": [
        "# sorting by values in columns\n",
        "# sort values by column b\n",
        "df.sort_values('B')"
      ],
      "execution_count": null,
      "outputs": [
        {
          "output_type": "execute_result",
          "data": {
            "text/html": [
              "<div>\n",
              "<style scoped>\n",
              "    .dataframe tbody tr th:only-of-type {\n",
              "        vertical-align: middle;\n",
              "    }\n",
              "\n",
              "    .dataframe tbody tr th {\n",
              "        vertical-align: top;\n",
              "    }\n",
              "\n",
              "    .dataframe thead th {\n",
              "        text-align: right;\n",
              "    }\n",
              "</style>\n",
              "<table border=\"1\" class=\"dataframe\">\n",
              "  <thead>\n",
              "    <tr style=\"text-align: right;\">\n",
              "      <th></th>\n",
              "      <th>A</th>\n",
              "      <th>B</th>\n",
              "      <th>C</th>\n",
              "      <th>D</th>\n",
              "    </tr>\n",
              "  </thead>\n",
              "  <tbody>\n",
              "    <tr>\n",
              "      <th>2013-01-01</th>\n",
              "      <td>-1.121417</td>\n",
              "      <td>-1.625271</td>\n",
              "      <td>1.593658</td>\n",
              "      <td>0.363895</td>\n",
              "    </tr>\n",
              "    <tr>\n",
              "      <th>2013-01-02</th>\n",
              "      <td>1.362100</td>\n",
              "      <td>-0.718586</td>\n",
              "      <td>0.323402</td>\n",
              "      <td>0.445226</td>\n",
              "    </tr>\n",
              "    <tr>\n",
              "      <th>2013-01-03</th>\n",
              "      <td>-0.721894</td>\n",
              "      <td>-0.129189</td>\n",
              "      <td>0.635445</td>\n",
              "      <td>0.286293</td>\n",
              "    </tr>\n",
              "    <tr>\n",
              "      <th>2013-01-05</th>\n",
              "      <td>0.034580</td>\n",
              "      <td>0.687587</td>\n",
              "      <td>0.867039</td>\n",
              "      <td>-0.639018</td>\n",
              "    </tr>\n",
              "    <tr>\n",
              "      <th>2013-01-04</th>\n",
              "      <td>0.830970</td>\n",
              "      <td>1.271088</td>\n",
              "      <td>0.565128</td>\n",
              "      <td>-2.286099</td>\n",
              "    </tr>\n",
              "    <tr>\n",
              "      <th>2013-01-06</th>\n",
              "      <td>1.043027</td>\n",
              "      <td>2.792817</td>\n",
              "      <td>-1.487700</td>\n",
              "      <td>2.115957</td>\n",
              "    </tr>\n",
              "  </tbody>\n",
              "</table>\n",
              "</div>"
            ],
            "text/plain": [
              "                   A         B         C         D\n",
              "2013-01-01 -1.121417 -1.625271  1.593658  0.363895\n",
              "2013-01-02  1.362100 -0.718586  0.323402  0.445226\n",
              "2013-01-03 -0.721894 -0.129189  0.635445  0.286293\n",
              "2013-01-05  0.034580  0.687587  0.867039 -0.639018\n",
              "2013-01-04  0.830970  1.271088  0.565128 -2.286099\n",
              "2013-01-06  1.043027  2.792817 -1.487700  2.115957"
            ]
          },
          "metadata": {},
          "execution_count": 23
        }
      ]
    },
    {
      "cell_type": "code",
      "metadata": {
        "colab": {
          "base_uri": "https://localhost:8080/"
        },
        "id": "tpWm_VzH77sv",
        "outputId": "5bb57029-e55e-4c7d-dd32-5da88e9875ec"
      },
      "source": [
        "# select a column and create a series: a\n",
        "a = df['A']\n",
        "print(a)\n",
        "print(type(a))\n",
        "# we see that a series is created"
      ],
      "execution_count": null,
      "outputs": [
        {
          "output_type": "stream",
          "name": "stdout",
          "text": [
            "2013-01-01   -1.121417\n",
            "2013-01-02    1.362100\n",
            "2013-01-03   -0.721894\n",
            "2013-01-04    0.830970\n",
            "2013-01-05    0.034580\n",
            "2013-01-06    1.043027\n",
            "Freq: D, Name: A, dtype: float64\n",
            "<class 'pandas.core.series.Series'>\n"
          ]
        }
      ]
    },
    {
      "cell_type": "code",
      "metadata": {
        "id": "4WVYzNGW8rSH"
      },
      "source": [
        "b = df.A # does not create a series"
      ],
      "execution_count": null,
      "outputs": []
    },
    {
      "cell_type": "code",
      "metadata": {
        "colab": {
          "base_uri": "https://localhost:8080/"
        },
        "id": "OMZDh2Pf9K7L",
        "outputId": "d8312fa4-fad3-4cc0-97a5-70648b736f56"
      },
      "source": [
        "print(b)"
      ],
      "execution_count": null,
      "outputs": [
        {
          "output_type": "stream",
          "name": "stdout",
          "text": [
            "2013-01-01   -1.121417\n",
            "2013-01-02    1.362100\n",
            "2013-01-03   -0.721894\n",
            "2013-01-04    0.830970\n",
            "2013-01-05    0.034580\n",
            "2013-01-06    1.043027\n",
            "Freq: D, Name: A, dtype: float64\n"
          ]
        }
      ]
    },
    {
      "cell_type": "code",
      "metadata": {
        "colab": {
          "base_uri": "https://localhost:8080/",
          "height": 232
        },
        "id": "718-f8Yf92CE",
        "outputId": "75d7efc9-3016-4d9a-dbf7-61c1f21ffbda"
      },
      "source": [
        "df # to get a view so we see how slicing works"
      ],
      "execution_count": null,
      "outputs": [
        {
          "output_type": "execute_result",
          "data": {
            "text/html": [
              "<div>\n",
              "<style scoped>\n",
              "    .dataframe tbody tr th:only-of-type {\n",
              "        vertical-align: middle;\n",
              "    }\n",
              "\n",
              "    .dataframe tbody tr th {\n",
              "        vertical-align: top;\n",
              "    }\n",
              "\n",
              "    .dataframe thead th {\n",
              "        text-align: right;\n",
              "    }\n",
              "</style>\n",
              "<table border=\"1\" class=\"dataframe\">\n",
              "  <thead>\n",
              "    <tr style=\"text-align: right;\">\n",
              "      <th></th>\n",
              "      <th>A</th>\n",
              "      <th>B</th>\n",
              "      <th>C</th>\n",
              "      <th>D</th>\n",
              "    </tr>\n",
              "  </thead>\n",
              "  <tbody>\n",
              "    <tr>\n",
              "      <th>2013-01-01</th>\n",
              "      <td>-1.121417</td>\n",
              "      <td>-1.625271</td>\n",
              "      <td>1.593658</td>\n",
              "      <td>0.363895</td>\n",
              "    </tr>\n",
              "    <tr>\n",
              "      <th>2013-01-02</th>\n",
              "      <td>1.362100</td>\n",
              "      <td>-0.718586</td>\n",
              "      <td>0.323402</td>\n",
              "      <td>0.445226</td>\n",
              "    </tr>\n",
              "    <tr>\n",
              "      <th>2013-01-03</th>\n",
              "      <td>-0.721894</td>\n",
              "      <td>-0.129189</td>\n",
              "      <td>0.635445</td>\n",
              "      <td>0.286293</td>\n",
              "    </tr>\n",
              "    <tr>\n",
              "      <th>2013-01-04</th>\n",
              "      <td>0.830970</td>\n",
              "      <td>1.271088</td>\n",
              "      <td>0.565128</td>\n",
              "      <td>-2.286099</td>\n",
              "    </tr>\n",
              "    <tr>\n",
              "      <th>2013-01-05</th>\n",
              "      <td>0.034580</td>\n",
              "      <td>0.687587</td>\n",
              "      <td>0.867039</td>\n",
              "      <td>-0.639018</td>\n",
              "    </tr>\n",
              "    <tr>\n",
              "      <th>2013-01-06</th>\n",
              "      <td>1.043027</td>\n",
              "      <td>2.792817</td>\n",
              "      <td>-1.487700</td>\n",
              "      <td>2.115957</td>\n",
              "    </tr>\n",
              "  </tbody>\n",
              "</table>\n",
              "</div>"
            ],
            "text/plain": [
              "                   A         B         C         D\n",
              "2013-01-01 -1.121417 -1.625271  1.593658  0.363895\n",
              "2013-01-02  1.362100 -0.718586  0.323402  0.445226\n",
              "2013-01-03 -0.721894 -0.129189  0.635445  0.286293\n",
              "2013-01-04  0.830970  1.271088  0.565128 -2.286099\n",
              "2013-01-05  0.034580  0.687587  0.867039 -0.639018\n",
              "2013-01-06  1.043027  2.792817 -1.487700  2.115957"
            ]
          },
          "metadata": {},
          "execution_count": 27
        }
      ]
    },
    {
      "cell_type": "code",
      "metadata": {
        "colab": {
          "base_uri": "https://localhost:8080/"
        },
        "id": "n8599e3T-h5U",
        "outputId": "04683ea5-6eed-4b44-f5b8-f085fe224b4f"
      },
      "source": [
        "# iloc to index by position\n",
        "df.iloc[0,0] "
      ],
      "execution_count": null,
      "outputs": [
        {
          "output_type": "execute_result",
          "data": {
            "text/plain": [
              "-1.1214167384605487"
            ]
          },
          "metadata": {},
          "execution_count": 28
        }
      ]
    },
    {
      "cell_type": "code",
      "metadata": {
        "colab": {
          "base_uri": "https://localhost:8080/"
        },
        "id": "9qOBm8Eh-sLh",
        "outputId": "f1e3da4e-6528-4e79-f24a-9987d342770a"
      },
      "source": [
        "# loc to index by name\n",
        "df.loc[dates[0]]"
      ],
      "execution_count": null,
      "outputs": [
        {
          "output_type": "execute_result",
          "data": {
            "text/plain": [
              "A   -1.121417\n",
              "B   -1.625271\n",
              "C    1.593658\n",
              "D    0.363895\n",
              "Name: 2013-01-01 00:00:00, dtype: float64"
            ]
          },
          "metadata": {},
          "execution_count": 29
        }
      ]
    },
    {
      "cell_type": "code",
      "metadata": {
        "colab": {
          "base_uri": "https://localhost:8080/",
          "height": 141
        },
        "id": "KvJ-iQuH_tD_",
        "outputId": "487323a3-dc14-4059-b5af-4341f21225d5"
      },
      "source": [
        "# indexing \n",
        "df[0:3]"
      ],
      "execution_count": null,
      "outputs": [
        {
          "output_type": "execute_result",
          "data": {
            "text/html": [
              "<div>\n",
              "<style scoped>\n",
              "    .dataframe tbody tr th:only-of-type {\n",
              "        vertical-align: middle;\n",
              "    }\n",
              "\n",
              "    .dataframe tbody tr th {\n",
              "        vertical-align: top;\n",
              "    }\n",
              "\n",
              "    .dataframe thead th {\n",
              "        text-align: right;\n",
              "    }\n",
              "</style>\n",
              "<table border=\"1\" class=\"dataframe\">\n",
              "  <thead>\n",
              "    <tr style=\"text-align: right;\">\n",
              "      <th></th>\n",
              "      <th>A</th>\n",
              "      <th>B</th>\n",
              "      <th>C</th>\n",
              "      <th>D</th>\n",
              "    </tr>\n",
              "  </thead>\n",
              "  <tbody>\n",
              "    <tr>\n",
              "      <th>2013-01-01</th>\n",
              "      <td>-1.121417</td>\n",
              "      <td>-1.625271</td>\n",
              "      <td>1.593658</td>\n",
              "      <td>0.363895</td>\n",
              "    </tr>\n",
              "    <tr>\n",
              "      <th>2013-01-02</th>\n",
              "      <td>1.362100</td>\n",
              "      <td>-0.718586</td>\n",
              "      <td>0.323402</td>\n",
              "      <td>0.445226</td>\n",
              "    </tr>\n",
              "    <tr>\n",
              "      <th>2013-01-03</th>\n",
              "      <td>-0.721894</td>\n",
              "      <td>-0.129189</td>\n",
              "      <td>0.635445</td>\n",
              "      <td>0.286293</td>\n",
              "    </tr>\n",
              "  </tbody>\n",
              "</table>\n",
              "</div>"
            ],
            "text/plain": [
              "                   A         B         C         D\n",
              "2013-01-01 -1.121417 -1.625271  1.593658  0.363895\n",
              "2013-01-02  1.362100 -0.718586  0.323402  0.445226\n",
              "2013-01-03 -0.721894 -0.129189  0.635445  0.286293"
            ]
          },
          "metadata": {},
          "execution_count": 30
        }
      ]
    },
    {
      "cell_type": "code",
      "metadata": {
        "colab": {
          "base_uri": "https://localhost:8080/",
          "height": 232
        },
        "id": "bIZMRV3QAcyL",
        "outputId": "2ddf6f1a-1d67-4d46-ef61-77d6b5eef27b"
      },
      "source": [
        "df"
      ],
      "execution_count": null,
      "outputs": [
        {
          "output_type": "execute_result",
          "data": {
            "text/html": [
              "<div>\n",
              "<style scoped>\n",
              "    .dataframe tbody tr th:only-of-type {\n",
              "        vertical-align: middle;\n",
              "    }\n",
              "\n",
              "    .dataframe tbody tr th {\n",
              "        vertical-align: top;\n",
              "    }\n",
              "\n",
              "    .dataframe thead th {\n",
              "        text-align: right;\n",
              "    }\n",
              "</style>\n",
              "<table border=\"1\" class=\"dataframe\">\n",
              "  <thead>\n",
              "    <tr style=\"text-align: right;\">\n",
              "      <th></th>\n",
              "      <th>A</th>\n",
              "      <th>B</th>\n",
              "      <th>C</th>\n",
              "      <th>D</th>\n",
              "    </tr>\n",
              "  </thead>\n",
              "  <tbody>\n",
              "    <tr>\n",
              "      <th>2013-01-01</th>\n",
              "      <td>-1.121417</td>\n",
              "      <td>-1.625271</td>\n",
              "      <td>1.593658</td>\n",
              "      <td>0.363895</td>\n",
              "    </tr>\n",
              "    <tr>\n",
              "      <th>2013-01-02</th>\n",
              "      <td>1.362100</td>\n",
              "      <td>-0.718586</td>\n",
              "      <td>0.323402</td>\n",
              "      <td>0.445226</td>\n",
              "    </tr>\n",
              "    <tr>\n",
              "      <th>2013-01-03</th>\n",
              "      <td>-0.721894</td>\n",
              "      <td>-0.129189</td>\n",
              "      <td>0.635445</td>\n",
              "      <td>0.286293</td>\n",
              "    </tr>\n",
              "    <tr>\n",
              "      <th>2013-01-04</th>\n",
              "      <td>0.830970</td>\n",
              "      <td>1.271088</td>\n",
              "      <td>0.565128</td>\n",
              "      <td>-2.286099</td>\n",
              "    </tr>\n",
              "    <tr>\n",
              "      <th>2013-01-05</th>\n",
              "      <td>0.034580</td>\n",
              "      <td>0.687587</td>\n",
              "      <td>0.867039</td>\n",
              "      <td>-0.639018</td>\n",
              "    </tr>\n",
              "    <tr>\n",
              "      <th>2013-01-06</th>\n",
              "      <td>1.043027</td>\n",
              "      <td>2.792817</td>\n",
              "      <td>-1.487700</td>\n",
              "      <td>2.115957</td>\n",
              "    </tr>\n",
              "  </tbody>\n",
              "</table>\n",
              "</div>"
            ],
            "text/plain": [
              "                   A         B         C         D\n",
              "2013-01-01 -1.121417 -1.625271  1.593658  0.363895\n",
              "2013-01-02  1.362100 -0.718586  0.323402  0.445226\n",
              "2013-01-03 -0.721894 -0.129189  0.635445  0.286293\n",
              "2013-01-04  0.830970  1.271088  0.565128 -2.286099\n",
              "2013-01-05  0.034580  0.687587  0.867039 -0.639018\n",
              "2013-01-06  1.043027  2.792817 -1.487700  2.115957"
            ]
          },
          "metadata": {},
          "execution_count": 31
        }
      ]
    },
    {
      "cell_type": "code",
      "metadata": {
        "colab": {
          "base_uri": "https://localhost:8080/",
          "height": 171
        },
        "id": "DMPH6cfh_4bm",
        "outputId": "b2dc33cc-fa60-4d72-cb62-2e0ae17af01c"
      },
      "source": [
        "# boolean indexing\n",
        "df[df.A > 0]"
      ],
      "execution_count": null,
      "outputs": [
        {
          "output_type": "execute_result",
          "data": {
            "text/html": [
              "<div>\n",
              "<style scoped>\n",
              "    .dataframe tbody tr th:only-of-type {\n",
              "        vertical-align: middle;\n",
              "    }\n",
              "\n",
              "    .dataframe tbody tr th {\n",
              "        vertical-align: top;\n",
              "    }\n",
              "\n",
              "    .dataframe thead th {\n",
              "        text-align: right;\n",
              "    }\n",
              "</style>\n",
              "<table border=\"1\" class=\"dataframe\">\n",
              "  <thead>\n",
              "    <tr style=\"text-align: right;\">\n",
              "      <th></th>\n",
              "      <th>A</th>\n",
              "      <th>B</th>\n",
              "      <th>C</th>\n",
              "      <th>D</th>\n",
              "    </tr>\n",
              "  </thead>\n",
              "  <tbody>\n",
              "    <tr>\n",
              "      <th>2013-01-02</th>\n",
              "      <td>1.362100</td>\n",
              "      <td>-0.718586</td>\n",
              "      <td>0.323402</td>\n",
              "      <td>0.445226</td>\n",
              "    </tr>\n",
              "    <tr>\n",
              "      <th>2013-01-04</th>\n",
              "      <td>0.830970</td>\n",
              "      <td>1.271088</td>\n",
              "      <td>0.565128</td>\n",
              "      <td>-2.286099</td>\n",
              "    </tr>\n",
              "    <tr>\n",
              "      <th>2013-01-05</th>\n",
              "      <td>0.034580</td>\n",
              "      <td>0.687587</td>\n",
              "      <td>0.867039</td>\n",
              "      <td>-0.639018</td>\n",
              "    </tr>\n",
              "    <tr>\n",
              "      <th>2013-01-06</th>\n",
              "      <td>1.043027</td>\n",
              "      <td>2.792817</td>\n",
              "      <td>-1.487700</td>\n",
              "      <td>2.115957</td>\n",
              "    </tr>\n",
              "  </tbody>\n",
              "</table>\n",
              "</div>"
            ],
            "text/plain": [
              "                   A         B         C         D\n",
              "2013-01-02  1.362100 -0.718586  0.323402  0.445226\n",
              "2013-01-04  0.830970  1.271088  0.565128 -2.286099\n",
              "2013-01-05  0.034580  0.687587  0.867039 -0.639018\n",
              "2013-01-06  1.043027  2.792817 -1.487700  2.115957"
            ]
          },
          "metadata": {},
          "execution_count": 32
        }
      ]
    },
    {
      "cell_type": "code",
      "metadata": {
        "colab": {
          "base_uri": "https://localhost:8080/",
          "height": 141
        },
        "id": "vlNlhexMAYLk",
        "outputId": "bfbb42ba-11f9-40da-a8e2-2ca872d87393"
      },
      "source": [
        "# can filter with multiple conditions\n",
        "# must put arguments in parenthesis\n",
        "df[(df.A > 0) & (df.B > 0)]"
      ],
      "execution_count": null,
      "outputs": [
        {
          "output_type": "execute_result",
          "data": {
            "text/html": [
              "<div>\n",
              "<style scoped>\n",
              "    .dataframe tbody tr th:only-of-type {\n",
              "        vertical-align: middle;\n",
              "    }\n",
              "\n",
              "    .dataframe tbody tr th {\n",
              "        vertical-align: top;\n",
              "    }\n",
              "\n",
              "    .dataframe thead th {\n",
              "        text-align: right;\n",
              "    }\n",
              "</style>\n",
              "<table border=\"1\" class=\"dataframe\">\n",
              "  <thead>\n",
              "    <tr style=\"text-align: right;\">\n",
              "      <th></th>\n",
              "      <th>A</th>\n",
              "      <th>B</th>\n",
              "      <th>C</th>\n",
              "      <th>D</th>\n",
              "    </tr>\n",
              "  </thead>\n",
              "  <tbody>\n",
              "    <tr>\n",
              "      <th>2013-01-04</th>\n",
              "      <td>0.830970</td>\n",
              "      <td>1.271088</td>\n",
              "      <td>0.565128</td>\n",
              "      <td>-2.286099</td>\n",
              "    </tr>\n",
              "    <tr>\n",
              "      <th>2013-01-05</th>\n",
              "      <td>0.034580</td>\n",
              "      <td>0.687587</td>\n",
              "      <td>0.867039</td>\n",
              "      <td>-0.639018</td>\n",
              "    </tr>\n",
              "    <tr>\n",
              "      <th>2013-01-06</th>\n",
              "      <td>1.043027</td>\n",
              "      <td>2.792817</td>\n",
              "      <td>-1.487700</td>\n",
              "      <td>2.115957</td>\n",
              "    </tr>\n",
              "  </tbody>\n",
              "</table>\n",
              "</div>"
            ],
            "text/plain": [
              "                   A         B         C         D\n",
              "2013-01-04  0.830970  1.271088  0.565128 -2.286099\n",
              "2013-01-05  0.034580  0.687587  0.867039 -0.639018\n",
              "2013-01-06  1.043027  2.792817 -1.487700  2.115957"
            ]
          },
          "metadata": {},
          "execution_count": 33
        }
      ]
    },
    {
      "cell_type": "code",
      "metadata": {
        "colab": {
          "base_uri": "https://localhost:8080/",
          "height": 171
        },
        "id": "DCZKjTUPAn5c",
        "outputId": "45699ca1-98c2-440d-bf03-7d5b8fa41fb5"
      },
      "source": [
        "# using an or condition\n",
        "df[(df.A > 0)| (df.B > 0)]"
      ],
      "execution_count": null,
      "outputs": [
        {
          "output_type": "execute_result",
          "data": {
            "text/html": [
              "<div>\n",
              "<style scoped>\n",
              "    .dataframe tbody tr th:only-of-type {\n",
              "        vertical-align: middle;\n",
              "    }\n",
              "\n",
              "    .dataframe tbody tr th {\n",
              "        vertical-align: top;\n",
              "    }\n",
              "\n",
              "    .dataframe thead th {\n",
              "        text-align: right;\n",
              "    }\n",
              "</style>\n",
              "<table border=\"1\" class=\"dataframe\">\n",
              "  <thead>\n",
              "    <tr style=\"text-align: right;\">\n",
              "      <th></th>\n",
              "      <th>A</th>\n",
              "      <th>B</th>\n",
              "      <th>C</th>\n",
              "      <th>D</th>\n",
              "    </tr>\n",
              "  </thead>\n",
              "  <tbody>\n",
              "    <tr>\n",
              "      <th>2013-01-02</th>\n",
              "      <td>1.362100</td>\n",
              "      <td>-0.718586</td>\n",
              "      <td>0.323402</td>\n",
              "      <td>0.445226</td>\n",
              "    </tr>\n",
              "    <tr>\n",
              "      <th>2013-01-04</th>\n",
              "      <td>0.830970</td>\n",
              "      <td>1.271088</td>\n",
              "      <td>0.565128</td>\n",
              "      <td>-2.286099</td>\n",
              "    </tr>\n",
              "    <tr>\n",
              "      <th>2013-01-05</th>\n",
              "      <td>0.034580</td>\n",
              "      <td>0.687587</td>\n",
              "      <td>0.867039</td>\n",
              "      <td>-0.639018</td>\n",
              "    </tr>\n",
              "    <tr>\n",
              "      <th>2013-01-06</th>\n",
              "      <td>1.043027</td>\n",
              "      <td>2.792817</td>\n",
              "      <td>-1.487700</td>\n",
              "      <td>2.115957</td>\n",
              "    </tr>\n",
              "  </tbody>\n",
              "</table>\n",
              "</div>"
            ],
            "text/plain": [
              "                   A         B         C         D\n",
              "2013-01-02  1.362100 -0.718586  0.323402  0.445226\n",
              "2013-01-04  0.830970  1.271088  0.565128 -2.286099\n",
              "2013-01-05  0.034580  0.687587  0.867039 -0.639018\n",
              "2013-01-06  1.043027  2.792817 -1.487700  2.115957"
            ]
          },
          "metadata": {},
          "execution_count": 34
        }
      ]
    },
    {
      "cell_type": "code",
      "metadata": {
        "colab": {
          "base_uri": "https://localhost:8080/",
          "height": 232
        },
        "id": "XbF0maZzAs3G",
        "outputId": "7ddd06ba-6d3b-46e6-cabe-cc463004d555"
      },
      "source": [
        "df"
      ],
      "execution_count": null,
      "outputs": [
        {
          "output_type": "execute_result",
          "data": {
            "text/html": [
              "<div>\n",
              "<style scoped>\n",
              "    .dataframe tbody tr th:only-of-type {\n",
              "        vertical-align: middle;\n",
              "    }\n",
              "\n",
              "    .dataframe tbody tr th {\n",
              "        vertical-align: top;\n",
              "    }\n",
              "\n",
              "    .dataframe thead th {\n",
              "        text-align: right;\n",
              "    }\n",
              "</style>\n",
              "<table border=\"1\" class=\"dataframe\">\n",
              "  <thead>\n",
              "    <tr style=\"text-align: right;\">\n",
              "      <th></th>\n",
              "      <th>A</th>\n",
              "      <th>B</th>\n",
              "      <th>C</th>\n",
              "      <th>D</th>\n",
              "    </tr>\n",
              "  </thead>\n",
              "  <tbody>\n",
              "    <tr>\n",
              "      <th>2013-01-01</th>\n",
              "      <td>-1.121417</td>\n",
              "      <td>-1.625271</td>\n",
              "      <td>1.593658</td>\n",
              "      <td>0.363895</td>\n",
              "    </tr>\n",
              "    <tr>\n",
              "      <th>2013-01-02</th>\n",
              "      <td>1.362100</td>\n",
              "      <td>-0.718586</td>\n",
              "      <td>0.323402</td>\n",
              "      <td>0.445226</td>\n",
              "    </tr>\n",
              "    <tr>\n",
              "      <th>2013-01-03</th>\n",
              "      <td>-0.721894</td>\n",
              "      <td>-0.129189</td>\n",
              "      <td>0.635445</td>\n",
              "      <td>0.286293</td>\n",
              "    </tr>\n",
              "    <tr>\n",
              "      <th>2013-01-04</th>\n",
              "      <td>0.830970</td>\n",
              "      <td>1.271088</td>\n",
              "      <td>0.565128</td>\n",
              "      <td>-2.286099</td>\n",
              "    </tr>\n",
              "    <tr>\n",
              "      <th>2013-01-05</th>\n",
              "      <td>0.034580</td>\n",
              "      <td>0.687587</td>\n",
              "      <td>0.867039</td>\n",
              "      <td>-0.639018</td>\n",
              "    </tr>\n",
              "    <tr>\n",
              "      <th>2013-01-06</th>\n",
              "      <td>1.043027</td>\n",
              "      <td>2.792817</td>\n",
              "      <td>-1.487700</td>\n",
              "      <td>2.115957</td>\n",
              "    </tr>\n",
              "  </tbody>\n",
              "</table>\n",
              "</div>"
            ],
            "text/plain": [
              "                   A         B         C         D\n",
              "2013-01-01 -1.121417 -1.625271  1.593658  0.363895\n",
              "2013-01-02  1.362100 -0.718586  0.323402  0.445226\n",
              "2013-01-03 -0.721894 -0.129189  0.635445  0.286293\n",
              "2013-01-04  0.830970  1.271088  0.565128 -2.286099\n",
              "2013-01-05  0.034580  0.687587  0.867039 -0.639018\n",
              "2013-01-06  1.043027  2.792817 -1.487700  2.115957"
            ]
          },
          "metadata": {},
          "execution_count": 35
        }
      ]
    },
    {
      "cell_type": "code",
      "metadata": {
        "id": "lZCVH55fCfw-"
      },
      "source": [
        "df.iloc[0,0] = np.nan"
      ],
      "execution_count": null,
      "outputs": []
    },
    {
      "cell_type": "code",
      "metadata": {
        "colab": {
          "base_uri": "https://localhost:8080/",
          "height": 232
        },
        "id": "4AaOUSRTCx7I",
        "outputId": "b6a53be2-b84d-4dbe-98cd-77308420d8cd"
      },
      "source": [
        "df"
      ],
      "execution_count": null,
      "outputs": [
        {
          "output_type": "execute_result",
          "data": {
            "text/html": [
              "<div>\n",
              "<style scoped>\n",
              "    .dataframe tbody tr th:only-of-type {\n",
              "        vertical-align: middle;\n",
              "    }\n",
              "\n",
              "    .dataframe tbody tr th {\n",
              "        vertical-align: top;\n",
              "    }\n",
              "\n",
              "    .dataframe thead th {\n",
              "        text-align: right;\n",
              "    }\n",
              "</style>\n",
              "<table border=\"1\" class=\"dataframe\">\n",
              "  <thead>\n",
              "    <tr style=\"text-align: right;\">\n",
              "      <th></th>\n",
              "      <th>A</th>\n",
              "      <th>B</th>\n",
              "      <th>C</th>\n",
              "      <th>D</th>\n",
              "    </tr>\n",
              "  </thead>\n",
              "  <tbody>\n",
              "    <tr>\n",
              "      <th>2013-01-01</th>\n",
              "      <td>NaN</td>\n",
              "      <td>-1.625271</td>\n",
              "      <td>1.593658</td>\n",
              "      <td>0.363895</td>\n",
              "    </tr>\n",
              "    <tr>\n",
              "      <th>2013-01-02</th>\n",
              "      <td>1.362100</td>\n",
              "      <td>-0.718586</td>\n",
              "      <td>0.323402</td>\n",
              "      <td>0.445226</td>\n",
              "    </tr>\n",
              "    <tr>\n",
              "      <th>2013-01-03</th>\n",
              "      <td>-0.721894</td>\n",
              "      <td>-0.129189</td>\n",
              "      <td>0.635445</td>\n",
              "      <td>0.286293</td>\n",
              "    </tr>\n",
              "    <tr>\n",
              "      <th>2013-01-04</th>\n",
              "      <td>0.830970</td>\n",
              "      <td>1.271088</td>\n",
              "      <td>0.565128</td>\n",
              "      <td>-2.286099</td>\n",
              "    </tr>\n",
              "    <tr>\n",
              "      <th>2013-01-05</th>\n",
              "      <td>0.034580</td>\n",
              "      <td>0.687587</td>\n",
              "      <td>0.867039</td>\n",
              "      <td>-0.639018</td>\n",
              "    </tr>\n",
              "    <tr>\n",
              "      <th>2013-01-06</th>\n",
              "      <td>1.043027</td>\n",
              "      <td>2.792817</td>\n",
              "      <td>-1.487700</td>\n",
              "      <td>2.115957</td>\n",
              "    </tr>\n",
              "  </tbody>\n",
              "</table>\n",
              "</div>"
            ],
            "text/plain": [
              "                   A         B         C         D\n",
              "2013-01-01       NaN -1.625271  1.593658  0.363895\n",
              "2013-01-02  1.362100 -0.718586  0.323402  0.445226\n",
              "2013-01-03 -0.721894 -0.129189  0.635445  0.286293\n",
              "2013-01-04  0.830970  1.271088  0.565128 -2.286099\n",
              "2013-01-05  0.034580  0.687587  0.867039 -0.639018\n",
              "2013-01-06  1.043027  2.792817 -1.487700  2.115957"
            ]
          },
          "metadata": {},
          "execution_count": 37
        }
      ]
    },
    {
      "cell_type": "code",
      "metadata": {
        "colab": {
          "base_uri": "https://localhost:8080/",
          "height": 232
        },
        "id": "EEgk8ZQjCynL",
        "outputId": "01a3fff8-c9f6-460d-d146-7035c9184b89"
      },
      "source": [
        "df.fillna(value=5) # filling an na value"
      ],
      "execution_count": null,
      "outputs": [
        {
          "output_type": "execute_result",
          "data": {
            "text/html": [
              "<div>\n",
              "<style scoped>\n",
              "    .dataframe tbody tr th:only-of-type {\n",
              "        vertical-align: middle;\n",
              "    }\n",
              "\n",
              "    .dataframe tbody tr th {\n",
              "        vertical-align: top;\n",
              "    }\n",
              "\n",
              "    .dataframe thead th {\n",
              "        text-align: right;\n",
              "    }\n",
              "</style>\n",
              "<table border=\"1\" class=\"dataframe\">\n",
              "  <thead>\n",
              "    <tr style=\"text-align: right;\">\n",
              "      <th></th>\n",
              "      <th>A</th>\n",
              "      <th>B</th>\n",
              "      <th>C</th>\n",
              "      <th>D</th>\n",
              "    </tr>\n",
              "  </thead>\n",
              "  <tbody>\n",
              "    <tr>\n",
              "      <th>2013-01-01</th>\n",
              "      <td>5.000000</td>\n",
              "      <td>-1.625271</td>\n",
              "      <td>1.593658</td>\n",
              "      <td>0.363895</td>\n",
              "    </tr>\n",
              "    <tr>\n",
              "      <th>2013-01-02</th>\n",
              "      <td>1.362100</td>\n",
              "      <td>-0.718586</td>\n",
              "      <td>0.323402</td>\n",
              "      <td>0.445226</td>\n",
              "    </tr>\n",
              "    <tr>\n",
              "      <th>2013-01-03</th>\n",
              "      <td>-0.721894</td>\n",
              "      <td>-0.129189</td>\n",
              "      <td>0.635445</td>\n",
              "      <td>0.286293</td>\n",
              "    </tr>\n",
              "    <tr>\n",
              "      <th>2013-01-04</th>\n",
              "      <td>0.830970</td>\n",
              "      <td>1.271088</td>\n",
              "      <td>0.565128</td>\n",
              "      <td>-2.286099</td>\n",
              "    </tr>\n",
              "    <tr>\n",
              "      <th>2013-01-05</th>\n",
              "      <td>0.034580</td>\n",
              "      <td>0.687587</td>\n",
              "      <td>0.867039</td>\n",
              "      <td>-0.639018</td>\n",
              "    </tr>\n",
              "    <tr>\n",
              "      <th>2013-01-06</th>\n",
              "      <td>1.043027</td>\n",
              "      <td>2.792817</td>\n",
              "      <td>-1.487700</td>\n",
              "      <td>2.115957</td>\n",
              "    </tr>\n",
              "  </tbody>\n",
              "</table>\n",
              "</div>"
            ],
            "text/plain": [
              "                   A         B         C         D\n",
              "2013-01-01  5.000000 -1.625271  1.593658  0.363895\n",
              "2013-01-02  1.362100 -0.718586  0.323402  0.445226\n",
              "2013-01-03 -0.721894 -0.129189  0.635445  0.286293\n",
              "2013-01-04  0.830970  1.271088  0.565128 -2.286099\n",
              "2013-01-05  0.034580  0.687587  0.867039 -0.639018\n",
              "2013-01-06  1.043027  2.792817 -1.487700  2.115957"
            ]
          },
          "metadata": {},
          "execution_count": 38
        }
      ]
    },
    {
      "cell_type": "code",
      "metadata": {
        "colab": {
          "base_uri": "https://localhost:8080/",
          "height": 232
        },
        "id": "59F2xLEpC2dL",
        "outputId": "5dd8e3a6-5b39-4a03-f281-ab69b8752685"
      },
      "source": [
        "df # the above didn't alter our df though!! "
      ],
      "execution_count": null,
      "outputs": [
        {
          "output_type": "execute_result",
          "data": {
            "text/html": [
              "<div>\n",
              "<style scoped>\n",
              "    .dataframe tbody tr th:only-of-type {\n",
              "        vertical-align: middle;\n",
              "    }\n",
              "\n",
              "    .dataframe tbody tr th {\n",
              "        vertical-align: top;\n",
              "    }\n",
              "\n",
              "    .dataframe thead th {\n",
              "        text-align: right;\n",
              "    }\n",
              "</style>\n",
              "<table border=\"1\" class=\"dataframe\">\n",
              "  <thead>\n",
              "    <tr style=\"text-align: right;\">\n",
              "      <th></th>\n",
              "      <th>A</th>\n",
              "      <th>B</th>\n",
              "      <th>C</th>\n",
              "      <th>D</th>\n",
              "    </tr>\n",
              "  </thead>\n",
              "  <tbody>\n",
              "    <tr>\n",
              "      <th>2013-01-01</th>\n",
              "      <td>NaN</td>\n",
              "      <td>-1.625271</td>\n",
              "      <td>1.593658</td>\n",
              "      <td>0.363895</td>\n",
              "    </tr>\n",
              "    <tr>\n",
              "      <th>2013-01-02</th>\n",
              "      <td>1.362100</td>\n",
              "      <td>-0.718586</td>\n",
              "      <td>0.323402</td>\n",
              "      <td>0.445226</td>\n",
              "    </tr>\n",
              "    <tr>\n",
              "      <th>2013-01-03</th>\n",
              "      <td>-0.721894</td>\n",
              "      <td>-0.129189</td>\n",
              "      <td>0.635445</td>\n",
              "      <td>0.286293</td>\n",
              "    </tr>\n",
              "    <tr>\n",
              "      <th>2013-01-04</th>\n",
              "      <td>0.830970</td>\n",
              "      <td>1.271088</td>\n",
              "      <td>0.565128</td>\n",
              "      <td>-2.286099</td>\n",
              "    </tr>\n",
              "    <tr>\n",
              "      <th>2013-01-05</th>\n",
              "      <td>0.034580</td>\n",
              "      <td>0.687587</td>\n",
              "      <td>0.867039</td>\n",
              "      <td>-0.639018</td>\n",
              "    </tr>\n",
              "    <tr>\n",
              "      <th>2013-01-06</th>\n",
              "      <td>1.043027</td>\n",
              "      <td>2.792817</td>\n",
              "      <td>-1.487700</td>\n",
              "      <td>2.115957</td>\n",
              "    </tr>\n",
              "  </tbody>\n",
              "</table>\n",
              "</div>"
            ],
            "text/plain": [
              "                   A         B         C         D\n",
              "2013-01-01       NaN -1.625271  1.593658  0.363895\n",
              "2013-01-02  1.362100 -0.718586  0.323402  0.445226\n",
              "2013-01-03 -0.721894 -0.129189  0.635445  0.286293\n",
              "2013-01-04  0.830970  1.271088  0.565128 -2.286099\n",
              "2013-01-05  0.034580  0.687587  0.867039 -0.639018\n",
              "2013-01-06  1.043027  2.792817 -1.487700  2.115957"
            ]
          },
          "metadata": {},
          "execution_count": 39
        }
      ]
    },
    {
      "cell_type": "code",
      "metadata": {
        "id": "CkKy2BtcC3SD"
      },
      "source": [
        "df.fillna(value=5, inplace=True) # use inplace argument to change! "
      ],
      "execution_count": null,
      "outputs": []
    },
    {
      "cell_type": "code",
      "metadata": {
        "colab": {
          "base_uri": "https://localhost:8080/",
          "height": 232
        },
        "id": "EvIvghvDC979",
        "outputId": "e8924192-d437-4114-f834-456e484ffb29"
      },
      "source": [
        "df # now we will see that the value has been updated"
      ],
      "execution_count": null,
      "outputs": [
        {
          "output_type": "execute_result",
          "data": {
            "text/html": [
              "<div>\n",
              "<style scoped>\n",
              "    .dataframe tbody tr th:only-of-type {\n",
              "        vertical-align: middle;\n",
              "    }\n",
              "\n",
              "    .dataframe tbody tr th {\n",
              "        vertical-align: top;\n",
              "    }\n",
              "\n",
              "    .dataframe thead th {\n",
              "        text-align: right;\n",
              "    }\n",
              "</style>\n",
              "<table border=\"1\" class=\"dataframe\">\n",
              "  <thead>\n",
              "    <tr style=\"text-align: right;\">\n",
              "      <th></th>\n",
              "      <th>A</th>\n",
              "      <th>B</th>\n",
              "      <th>C</th>\n",
              "      <th>D</th>\n",
              "    </tr>\n",
              "  </thead>\n",
              "  <tbody>\n",
              "    <tr>\n",
              "      <th>2013-01-01</th>\n",
              "      <td>5.000000</td>\n",
              "      <td>-1.625271</td>\n",
              "      <td>1.593658</td>\n",
              "      <td>0.363895</td>\n",
              "    </tr>\n",
              "    <tr>\n",
              "      <th>2013-01-02</th>\n",
              "      <td>1.362100</td>\n",
              "      <td>-0.718586</td>\n",
              "      <td>0.323402</td>\n",
              "      <td>0.445226</td>\n",
              "    </tr>\n",
              "    <tr>\n",
              "      <th>2013-01-03</th>\n",
              "      <td>-0.721894</td>\n",
              "      <td>-0.129189</td>\n",
              "      <td>0.635445</td>\n",
              "      <td>0.286293</td>\n",
              "    </tr>\n",
              "    <tr>\n",
              "      <th>2013-01-04</th>\n",
              "      <td>0.830970</td>\n",
              "      <td>1.271088</td>\n",
              "      <td>0.565128</td>\n",
              "      <td>-2.286099</td>\n",
              "    </tr>\n",
              "    <tr>\n",
              "      <th>2013-01-05</th>\n",
              "      <td>0.034580</td>\n",
              "      <td>0.687587</td>\n",
              "      <td>0.867039</td>\n",
              "      <td>-0.639018</td>\n",
              "    </tr>\n",
              "    <tr>\n",
              "      <th>2013-01-06</th>\n",
              "      <td>1.043027</td>\n",
              "      <td>2.792817</td>\n",
              "      <td>-1.487700</td>\n",
              "      <td>2.115957</td>\n",
              "    </tr>\n",
              "  </tbody>\n",
              "</table>\n",
              "</div>"
            ],
            "text/plain": [
              "                   A         B         C         D\n",
              "2013-01-01  5.000000 -1.625271  1.593658  0.363895\n",
              "2013-01-02  1.362100 -0.718586  0.323402  0.445226\n",
              "2013-01-03 -0.721894 -0.129189  0.635445  0.286293\n",
              "2013-01-04  0.830970  1.271088  0.565128 -2.286099\n",
              "2013-01-05  0.034580  0.687587  0.867039 -0.639018\n",
              "2013-01-06  1.043027  2.792817 -1.487700  2.115957"
            ]
          },
          "metadata": {},
          "execution_count": 41
        }
      ]
    },
    {
      "cell_type": "code",
      "metadata": {
        "colab": {
          "base_uri": "https://localhost:8080/",
          "height": 232
        },
        "id": "LCO8YNenC-aN",
        "outputId": "b66e375a-5fa2-4b02-dfcd-a0b0721ff618"
      },
      "source": [
        "pd.isnull(df)"
      ],
      "execution_count": null,
      "outputs": [
        {
          "output_type": "execute_result",
          "data": {
            "text/html": [
              "<div>\n",
              "<style scoped>\n",
              "    .dataframe tbody tr th:only-of-type {\n",
              "        vertical-align: middle;\n",
              "    }\n",
              "\n",
              "    .dataframe tbody tr th {\n",
              "        vertical-align: top;\n",
              "    }\n",
              "\n",
              "    .dataframe thead th {\n",
              "        text-align: right;\n",
              "    }\n",
              "</style>\n",
              "<table border=\"1\" class=\"dataframe\">\n",
              "  <thead>\n",
              "    <tr style=\"text-align: right;\">\n",
              "      <th></th>\n",
              "      <th>A</th>\n",
              "      <th>B</th>\n",
              "      <th>C</th>\n",
              "      <th>D</th>\n",
              "    </tr>\n",
              "  </thead>\n",
              "  <tbody>\n",
              "    <tr>\n",
              "      <th>2013-01-01</th>\n",
              "      <td>False</td>\n",
              "      <td>False</td>\n",
              "      <td>False</td>\n",
              "      <td>False</td>\n",
              "    </tr>\n",
              "    <tr>\n",
              "      <th>2013-01-02</th>\n",
              "      <td>False</td>\n",
              "      <td>False</td>\n",
              "      <td>False</td>\n",
              "      <td>False</td>\n",
              "    </tr>\n",
              "    <tr>\n",
              "      <th>2013-01-03</th>\n",
              "      <td>False</td>\n",
              "      <td>False</td>\n",
              "      <td>False</td>\n",
              "      <td>False</td>\n",
              "    </tr>\n",
              "    <tr>\n",
              "      <th>2013-01-04</th>\n",
              "      <td>False</td>\n",
              "      <td>False</td>\n",
              "      <td>False</td>\n",
              "      <td>False</td>\n",
              "    </tr>\n",
              "    <tr>\n",
              "      <th>2013-01-05</th>\n",
              "      <td>False</td>\n",
              "      <td>False</td>\n",
              "      <td>False</td>\n",
              "      <td>False</td>\n",
              "    </tr>\n",
              "    <tr>\n",
              "      <th>2013-01-06</th>\n",
              "      <td>False</td>\n",
              "      <td>False</td>\n",
              "      <td>False</td>\n",
              "      <td>False</td>\n",
              "    </tr>\n",
              "  </tbody>\n",
              "</table>\n",
              "</div>"
            ],
            "text/plain": [
              "                A      B      C      D\n",
              "2013-01-01  False  False  False  False\n",
              "2013-01-02  False  False  False  False\n",
              "2013-01-03  False  False  False  False\n",
              "2013-01-04  False  False  False  False\n",
              "2013-01-05  False  False  False  False\n",
              "2013-01-06  False  False  False  False"
            ]
          },
          "metadata": {},
          "execution_count": 42
        }
      ]
    },
    {
      "cell_type": "code",
      "metadata": {
        "id": "qbh1fc3cDSzQ"
      },
      "source": [
        ""
      ],
      "execution_count": null,
      "outputs": []
    },
    {
      "cell_type": "markdown",
      "metadata": {
        "id": "jfOfhFT9XpIa"
      },
      "source": [
        "# Operations"
      ]
    },
    {
      "cell_type": "code",
      "metadata": {
        "colab": {
          "base_uri": "https://localhost:8080/"
        },
        "id": "ioSPm4zOXqtq",
        "outputId": "36ec9c2f-a414-42f3-b706-1ed2d45e7ef8"
      },
      "source": [
        "df.mean()"
      ],
      "execution_count": null,
      "outputs": [
        {
          "output_type": "execute_result",
          "data": {
            "text/plain": [
              "A    1.258131\n",
              "B    0.379741\n",
              "C    0.416162\n",
              "D    0.047709\n",
              "dtype: float64"
            ]
          },
          "metadata": {},
          "execution_count": 43
        }
      ]
    },
    {
      "cell_type": "code",
      "metadata": {
        "colab": {
          "base_uri": "https://localhost:8080/"
        },
        "id": "Q_1kSGdZXsFk",
        "outputId": "88dac6df-0fe3-4b76-f61f-b39b3cf10b96"
      },
      "source": [
        "df.mean(1) # pivots the mean calculation"
      ],
      "execution_count": null,
      "outputs": [
        {
          "output_type": "execute_result",
          "data": {
            "text/plain": [
              "2013-01-01    1.333071\n",
              "2013-01-02    0.353036\n",
              "2013-01-03    0.017664\n",
              "2013-01-04    0.095272\n",
              "2013-01-05    0.237547\n",
              "2013-01-06    1.116025\n",
              "Freq: D, dtype: float64"
            ]
          },
          "metadata": {},
          "execution_count": 44
        }
      ]
    },
    {
      "cell_type": "code",
      "metadata": {
        "colab": {
          "base_uri": "https://localhost:8080/",
          "height": 232
        },
        "id": "jFuEQOp1X3tl",
        "outputId": "bb2589a9-5b25-4fb0-d9ce-f18d131def33"
      },
      "source": [
        "# applying functions\n",
        "df.apply(np.cumsum) # can apply to rows or columns using axis"
      ],
      "execution_count": null,
      "outputs": [
        {
          "output_type": "execute_result",
          "data": {
            "text/html": [
              "<div>\n",
              "<style scoped>\n",
              "    .dataframe tbody tr th:only-of-type {\n",
              "        vertical-align: middle;\n",
              "    }\n",
              "\n",
              "    .dataframe tbody tr th {\n",
              "        vertical-align: top;\n",
              "    }\n",
              "\n",
              "    .dataframe thead th {\n",
              "        text-align: right;\n",
              "    }\n",
              "</style>\n",
              "<table border=\"1\" class=\"dataframe\">\n",
              "  <thead>\n",
              "    <tr style=\"text-align: right;\">\n",
              "      <th></th>\n",
              "      <th>A</th>\n",
              "      <th>B</th>\n",
              "      <th>C</th>\n",
              "      <th>D</th>\n",
              "    </tr>\n",
              "  </thead>\n",
              "  <tbody>\n",
              "    <tr>\n",
              "      <th>2013-01-01</th>\n",
              "      <td>5.000000</td>\n",
              "      <td>-1.625271</td>\n",
              "      <td>1.593658</td>\n",
              "      <td>0.363895</td>\n",
              "    </tr>\n",
              "    <tr>\n",
              "      <th>2013-01-02</th>\n",
              "      <td>6.362100</td>\n",
              "      <td>-2.343857</td>\n",
              "      <td>1.917060</td>\n",
              "      <td>0.809122</td>\n",
              "    </tr>\n",
              "    <tr>\n",
              "      <th>2013-01-03</th>\n",
              "      <td>5.640206</td>\n",
              "      <td>-2.473046</td>\n",
              "      <td>2.552505</td>\n",
              "      <td>1.095415</td>\n",
              "    </tr>\n",
              "    <tr>\n",
              "      <th>2013-01-04</th>\n",
              "      <td>6.471176</td>\n",
              "      <td>-1.201958</td>\n",
              "      <td>3.117633</td>\n",
              "      <td>-1.190684</td>\n",
              "    </tr>\n",
              "    <tr>\n",
              "      <th>2013-01-05</th>\n",
              "      <td>6.505756</td>\n",
              "      <td>-0.514372</td>\n",
              "      <td>3.984672</td>\n",
              "      <td>-1.829702</td>\n",
              "    </tr>\n",
              "    <tr>\n",
              "      <th>2013-01-06</th>\n",
              "      <td>7.548783</td>\n",
              "      <td>2.278445</td>\n",
              "      <td>2.496972</td>\n",
              "      <td>0.286255</td>\n",
              "    </tr>\n",
              "  </tbody>\n",
              "</table>\n",
              "</div>"
            ],
            "text/plain": [
              "                   A         B         C         D\n",
              "2013-01-01  5.000000 -1.625271  1.593658  0.363895\n",
              "2013-01-02  6.362100 -2.343857  1.917060  0.809122\n",
              "2013-01-03  5.640206 -2.473046  2.552505  1.095415\n",
              "2013-01-04  6.471176 -1.201958  3.117633 -1.190684\n",
              "2013-01-05  6.505756 -0.514372  3.984672 -1.829702\n",
              "2013-01-06  7.548783  2.278445  2.496972  0.286255"
            ]
          },
          "metadata": {},
          "execution_count": 45
        }
      ]
    },
    {
      "cell_type": "code",
      "metadata": {
        "colab": {
          "base_uri": "https://localhost:8080/"
        },
        "id": "6hKjuGRZY4vH",
        "outputId": "19ae0e1c-6b65-4001-b7c3-a90ec28ebd9d"
      },
      "source": [
        "# could also apply user defined functions in this manner\n",
        "df.apply(lambda x: x.max() - x.min())"
      ],
      "execution_count": null,
      "outputs": [
        {
          "output_type": "execute_result",
          "data": {
            "text/plain": [
              "A    5.721894\n",
              "B    4.418087\n",
              "C    3.081358\n",
              "D    4.402055\n",
              "dtype: float64"
            ]
          },
          "metadata": {},
          "execution_count": 46
        }
      ]
    },
    {
      "cell_type": "code",
      "metadata": {
        "colab": {
          "base_uri": "https://localhost:8080/"
        },
        "id": "s0H4E3KEZL25",
        "outputId": "72cdbbd2-8d57-4a1f-a542-3b17961d557f"
      },
      "source": [
        "s = pd.Series(np.random.randint(0,7,size=10))\n",
        "s.value_counts()"
      ],
      "execution_count": null,
      "outputs": [
        {
          "output_type": "execute_result",
          "data": {
            "text/plain": [
              "0    3\n",
              "5    2\n",
              "4    2\n",
              "1    2\n",
              "2    1\n",
              "dtype: int64"
            ]
          },
          "metadata": {},
          "execution_count": 47
        }
      ]
    },
    {
      "cell_type": "code",
      "metadata": {
        "colab": {
          "base_uri": "https://localhost:8080/",
          "height": 171
        },
        "id": "5_Gkobu0ZYfg",
        "outputId": "6a6d770a-1474-49be-8e35-7627657453ad"
      },
      "source": [
        "# SQL style joins\n",
        "# construct 2 dataframes with dictionaries and join\n",
        "# on a common value: key\n",
        "left = pd.DataFrame({'key': ['foo', 'foo'], 'lval': [1, 2]})\n",
        "right = pd.DataFrame({'key': ['foo', 'foo'], 'rval': [4, 5]})\n",
        "pd.merge(left, right, on='key')"
      ],
      "execution_count": null,
      "outputs": [
        {
          "output_type": "execute_result",
          "data": {
            "text/html": [
              "<div>\n",
              "<style scoped>\n",
              "    .dataframe tbody tr th:only-of-type {\n",
              "        vertical-align: middle;\n",
              "    }\n",
              "\n",
              "    .dataframe tbody tr th {\n",
              "        vertical-align: top;\n",
              "    }\n",
              "\n",
              "    .dataframe thead th {\n",
              "        text-align: right;\n",
              "    }\n",
              "</style>\n",
              "<table border=\"1\" class=\"dataframe\">\n",
              "  <thead>\n",
              "    <tr style=\"text-align: right;\">\n",
              "      <th></th>\n",
              "      <th>key</th>\n",
              "      <th>lval</th>\n",
              "      <th>rval</th>\n",
              "    </tr>\n",
              "  </thead>\n",
              "  <tbody>\n",
              "    <tr>\n",
              "      <th>0</th>\n",
              "      <td>foo</td>\n",
              "      <td>1</td>\n",
              "      <td>4</td>\n",
              "    </tr>\n",
              "    <tr>\n",
              "      <th>1</th>\n",
              "      <td>foo</td>\n",
              "      <td>1</td>\n",
              "      <td>5</td>\n",
              "    </tr>\n",
              "    <tr>\n",
              "      <th>2</th>\n",
              "      <td>foo</td>\n",
              "      <td>2</td>\n",
              "      <td>4</td>\n",
              "    </tr>\n",
              "    <tr>\n",
              "      <th>3</th>\n",
              "      <td>foo</td>\n",
              "      <td>2</td>\n",
              "      <td>5</td>\n",
              "    </tr>\n",
              "  </tbody>\n",
              "</table>\n",
              "</div>"
            ],
            "text/plain": [
              "   key  lval  rval\n",
              "0  foo     1     4\n",
              "1  foo     1     5\n",
              "2  foo     2     4\n",
              "3  foo     2     5"
            ]
          },
          "metadata": {},
          "execution_count": 48
        }
      ]
    },
    {
      "cell_type": "code",
      "metadata": {
        "id": "L2MpHM69aOXi"
      },
      "source": [
        "colors = pd.DataFrame({'key': ['Frank', 'Emmett', 'Brady'], 'favorite_color': ['Red', 'Green', 'Milk'] })"
      ],
      "execution_count": null,
      "outputs": []
    },
    {
      "cell_type": "code",
      "metadata": {
        "colab": {
          "base_uri": "https://localhost:8080/"
        },
        "id": "BTwHvuAvblYB",
        "outputId": "338c2619-58e1-4455-a713-839980b5413d"
      },
      "source": [
        "print(colors)"
      ],
      "execution_count": null,
      "outputs": [
        {
          "output_type": "stream",
          "name": "stdout",
          "text": [
            "      key favorite_color\n",
            "0   Frank            Red\n",
            "1  Emmett          Green\n",
            "2   Brady           Milk\n"
          ]
        }
      ]
    },
    {
      "cell_type": "code",
      "metadata": {
        "id": "hTHeH4WqbsiJ"
      },
      "source": [
        "ages = pd.DataFrame({'key': ['Frank', 'Emmett', 'Brady'], 'age': [5, 3, 1] })"
      ],
      "execution_count": null,
      "outputs": []
    },
    {
      "cell_type": "code",
      "metadata": {
        "colab": {
          "base_uri": "https://localhost:8080/"
        },
        "id": "FSLVq3BUcBQ3",
        "outputId": "60b77ddc-d508-41c1-e39c-c273283df7bc"
      },
      "source": [
        "print(ages)"
      ],
      "execution_count": null,
      "outputs": [
        {
          "output_type": "stream",
          "name": "stdout",
          "text": [
            "      key  age\n",
            "0   Frank    5\n",
            "1  Emmett    3\n",
            "2   Brady    1\n"
          ]
        }
      ]
    },
    {
      "cell_type": "code",
      "metadata": {
        "id": "Tmsskk5pcCEn"
      },
      "source": [
        "merged = pd.merge(ages, colors, on='key')"
      ],
      "execution_count": null,
      "outputs": []
    },
    {
      "cell_type": "code",
      "metadata": {
        "colab": {
          "base_uri": "https://localhost:8080/"
        },
        "id": "d8NEjOrXcesP",
        "outputId": "ed1103fc-3102-43e6-8c55-87d63c6d2e99"
      },
      "source": [
        "print(merged)"
      ],
      "execution_count": null,
      "outputs": [
        {
          "output_type": "stream",
          "name": "stdout",
          "text": [
            "      key  age favorite_color\n",
            "0   Frank    5            Red\n",
            "1  Emmett    3          Green\n",
            "2   Brady    1           Milk\n"
          ]
        }
      ]
    },
    {
      "cell_type": "code",
      "metadata": {
        "colab": {
          "base_uri": "https://localhost:8080/"
        },
        "id": "Tk4jYKwEcxqL",
        "outputId": "5dc7d3d1-ddba-4640-ac71-f191754b1e33"
      },
      "source": [
        "type(merged)"
      ],
      "execution_count": null,
      "outputs": [
        {
          "output_type": "execute_result",
          "data": {
            "text/plain": [
              "pandas.core.frame.DataFrame"
            ]
          },
          "metadata": {},
          "execution_count": 55
        }
      ]
    },
    {
      "cell_type": "code",
      "metadata": {
        "colab": {
          "base_uri": "https://localhost:8080/",
          "height": 294
        },
        "id": "UaU7EBjTdDUA",
        "outputId": "cf382182-9822-46ee-9899-8ac1e7a58ca0"
      },
      "source": [
        "# loading a df to practice grouping\n",
        "df = pd.DataFrame(\n",
        "    { 'A' : ['foo', 'bar', 'foo', 'bar', 'foo', 'bar', 'foo', 'foo'],\n",
        "      'B' : ['one', 'one', 'two', 'three', 'two', 'two', 'one', 'three'],\n",
        "      'C' : np.random.randn(8),\n",
        "      'D' : np.random.randn(8) })\n",
        "df"
      ],
      "execution_count": null,
      "outputs": [
        {
          "output_type": "execute_result",
          "data": {
            "text/html": [
              "<div>\n",
              "<style scoped>\n",
              "    .dataframe tbody tr th:only-of-type {\n",
              "        vertical-align: middle;\n",
              "    }\n",
              "\n",
              "    .dataframe tbody tr th {\n",
              "        vertical-align: top;\n",
              "    }\n",
              "\n",
              "    .dataframe thead th {\n",
              "        text-align: right;\n",
              "    }\n",
              "</style>\n",
              "<table border=\"1\" class=\"dataframe\">\n",
              "  <thead>\n",
              "    <tr style=\"text-align: right;\">\n",
              "      <th></th>\n",
              "      <th>A</th>\n",
              "      <th>B</th>\n",
              "      <th>C</th>\n",
              "      <th>D</th>\n",
              "    </tr>\n",
              "  </thead>\n",
              "  <tbody>\n",
              "    <tr>\n",
              "      <th>0</th>\n",
              "      <td>foo</td>\n",
              "      <td>one</td>\n",
              "      <td>-0.437513</td>\n",
              "      <td>0.131093</td>\n",
              "    </tr>\n",
              "    <tr>\n",
              "      <th>1</th>\n",
              "      <td>bar</td>\n",
              "      <td>one</td>\n",
              "      <td>0.094634</td>\n",
              "      <td>0.397462</td>\n",
              "    </tr>\n",
              "    <tr>\n",
              "      <th>2</th>\n",
              "      <td>foo</td>\n",
              "      <td>two</td>\n",
              "      <td>0.160622</td>\n",
              "      <td>-1.512517</td>\n",
              "    </tr>\n",
              "    <tr>\n",
              "      <th>3</th>\n",
              "      <td>bar</td>\n",
              "      <td>three</td>\n",
              "      <td>-1.921382</td>\n",
              "      <td>0.781332</td>\n",
              "    </tr>\n",
              "    <tr>\n",
              "      <th>4</th>\n",
              "      <td>foo</td>\n",
              "      <td>two</td>\n",
              "      <td>-0.235997</td>\n",
              "      <td>-0.848669</td>\n",
              "    </tr>\n",
              "    <tr>\n",
              "      <th>5</th>\n",
              "      <td>bar</td>\n",
              "      <td>two</td>\n",
              "      <td>0.312066</td>\n",
              "      <td>0.190246</td>\n",
              "    </tr>\n",
              "    <tr>\n",
              "      <th>6</th>\n",
              "      <td>foo</td>\n",
              "      <td>one</td>\n",
              "      <td>0.921093</td>\n",
              "      <td>1.103956</td>\n",
              "    </tr>\n",
              "    <tr>\n",
              "      <th>7</th>\n",
              "      <td>foo</td>\n",
              "      <td>three</td>\n",
              "      <td>-0.060321</td>\n",
              "      <td>-1.961130</td>\n",
              "    </tr>\n",
              "  </tbody>\n",
              "</table>\n",
              "</div>"
            ],
            "text/plain": [
              "     A      B         C         D\n",
              "0  foo    one -0.437513  0.131093\n",
              "1  bar    one  0.094634  0.397462\n",
              "2  foo    two  0.160622 -1.512517\n",
              "3  bar  three -1.921382  0.781332\n",
              "4  foo    two -0.235997 -0.848669\n",
              "5  bar    two  0.312066  0.190246\n",
              "6  foo    one  0.921093  1.103956\n",
              "7  foo  three -0.060321 -1.961130"
            ]
          },
          "metadata": {},
          "execution_count": 56
        }
      ]
    },
    {
      "cell_type": "code",
      "metadata": {
        "colab": {
          "base_uri": "https://localhost:8080/",
          "height": 141
        },
        "id": "oz7rHdZwdOva",
        "outputId": "59a5a839-b71e-460d-b3a2-c8978d1bc2f9"
      },
      "source": [
        "# groupby columns\n",
        "df.groupby('A').sum()"
      ],
      "execution_count": null,
      "outputs": [
        {
          "output_type": "execute_result",
          "data": {
            "text/html": [
              "<div>\n",
              "<style scoped>\n",
              "    .dataframe tbody tr th:only-of-type {\n",
              "        vertical-align: middle;\n",
              "    }\n",
              "\n",
              "    .dataframe tbody tr th {\n",
              "        vertical-align: top;\n",
              "    }\n",
              "\n",
              "    .dataframe thead th {\n",
              "        text-align: right;\n",
              "    }\n",
              "</style>\n",
              "<table border=\"1\" class=\"dataframe\">\n",
              "  <thead>\n",
              "    <tr style=\"text-align: right;\">\n",
              "      <th></th>\n",
              "      <th>C</th>\n",
              "      <th>D</th>\n",
              "    </tr>\n",
              "    <tr>\n",
              "      <th>A</th>\n",
              "      <th></th>\n",
              "      <th></th>\n",
              "    </tr>\n",
              "  </thead>\n",
              "  <tbody>\n",
              "    <tr>\n",
              "      <th>bar</th>\n",
              "      <td>-1.514682</td>\n",
              "      <td>1.369040</td>\n",
              "    </tr>\n",
              "    <tr>\n",
              "      <th>foo</th>\n",
              "      <td>0.347885</td>\n",
              "      <td>-3.087266</td>\n",
              "    </tr>\n",
              "  </tbody>\n",
              "</table>\n",
              "</div>"
            ],
            "text/plain": [
              "            C         D\n",
              "A                      \n",
              "bar -1.514682  1.369040\n",
              "foo  0.347885 -3.087266"
            ]
          },
          "metadata": {},
          "execution_count": 57
        }
      ]
    },
    {
      "cell_type": "code",
      "metadata": {
        "colab": {
          "base_uri": "https://localhost:8080/",
          "height": 171
        },
        "id": "e_-oWzdTdSYp",
        "outputId": "5fca5682-6a85-4500-d4a3-b0d6a5b693fc"
      },
      "source": [
        "df.groupby('B').sum()"
      ],
      "execution_count": null,
      "outputs": [
        {
          "output_type": "execute_result",
          "data": {
            "text/html": [
              "<div>\n",
              "<style scoped>\n",
              "    .dataframe tbody tr th:only-of-type {\n",
              "        vertical-align: middle;\n",
              "    }\n",
              "\n",
              "    .dataframe tbody tr th {\n",
              "        vertical-align: top;\n",
              "    }\n",
              "\n",
              "    .dataframe thead th {\n",
              "        text-align: right;\n",
              "    }\n",
              "</style>\n",
              "<table border=\"1\" class=\"dataframe\">\n",
              "  <thead>\n",
              "    <tr style=\"text-align: right;\">\n",
              "      <th></th>\n",
              "      <th>C</th>\n",
              "      <th>D</th>\n",
              "    </tr>\n",
              "    <tr>\n",
              "      <th>B</th>\n",
              "      <th></th>\n",
              "      <th></th>\n",
              "    </tr>\n",
              "  </thead>\n",
              "  <tbody>\n",
              "    <tr>\n",
              "      <th>one</th>\n",
              "      <td>0.578214</td>\n",
              "      <td>1.632512</td>\n",
              "    </tr>\n",
              "    <tr>\n",
              "      <th>three</th>\n",
              "      <td>-1.981703</td>\n",
              "      <td>-1.179798</td>\n",
              "    </tr>\n",
              "    <tr>\n",
              "      <th>two</th>\n",
              "      <td>0.236691</td>\n",
              "      <td>-2.170940</td>\n",
              "    </tr>\n",
              "  </tbody>\n",
              "</table>\n",
              "</div>"
            ],
            "text/plain": [
              "              C         D\n",
              "B                        \n",
              "one    0.578214  1.632512\n",
              "three -1.981703 -1.179798\n",
              "two    0.236691 -2.170940"
            ]
          },
          "metadata": {},
          "execution_count": 58
        }
      ]
    },
    {
      "cell_type": "code",
      "metadata": {
        "colab": {
          "base_uri": "https://localhost:8080/",
          "height": 263
        },
        "id": "2Lnv-ByNdYWc",
        "outputId": "c4182e1a-1d51-4130-9373-94ce575eadeb"
      },
      "source": [
        "# group multiple columns\n",
        "df.groupby(['A', 'B']).sum()"
      ],
      "execution_count": null,
      "outputs": [
        {
          "output_type": "execute_result",
          "data": {
            "text/html": [
              "<div>\n",
              "<style scoped>\n",
              "    .dataframe tbody tr th:only-of-type {\n",
              "        vertical-align: middle;\n",
              "    }\n",
              "\n",
              "    .dataframe tbody tr th {\n",
              "        vertical-align: top;\n",
              "    }\n",
              "\n",
              "    .dataframe thead th {\n",
              "        text-align: right;\n",
              "    }\n",
              "</style>\n",
              "<table border=\"1\" class=\"dataframe\">\n",
              "  <thead>\n",
              "    <tr style=\"text-align: right;\">\n",
              "      <th></th>\n",
              "      <th></th>\n",
              "      <th>C</th>\n",
              "      <th>D</th>\n",
              "    </tr>\n",
              "    <tr>\n",
              "      <th>A</th>\n",
              "      <th>B</th>\n",
              "      <th></th>\n",
              "      <th></th>\n",
              "    </tr>\n",
              "  </thead>\n",
              "  <tbody>\n",
              "    <tr>\n",
              "      <th rowspan=\"3\" valign=\"top\">bar</th>\n",
              "      <th>one</th>\n",
              "      <td>0.094634</td>\n",
              "      <td>0.397462</td>\n",
              "    </tr>\n",
              "    <tr>\n",
              "      <th>three</th>\n",
              "      <td>-1.921382</td>\n",
              "      <td>0.781332</td>\n",
              "    </tr>\n",
              "    <tr>\n",
              "      <th>two</th>\n",
              "      <td>0.312066</td>\n",
              "      <td>0.190246</td>\n",
              "    </tr>\n",
              "    <tr>\n",
              "      <th rowspan=\"3\" valign=\"top\">foo</th>\n",
              "      <th>one</th>\n",
              "      <td>0.483580</td>\n",
              "      <td>1.235050</td>\n",
              "    </tr>\n",
              "    <tr>\n",
              "      <th>three</th>\n",
              "      <td>-0.060321</td>\n",
              "      <td>-1.961130</td>\n",
              "    </tr>\n",
              "    <tr>\n",
              "      <th>two</th>\n",
              "      <td>-0.075375</td>\n",
              "      <td>-2.361186</td>\n",
              "    </tr>\n",
              "  </tbody>\n",
              "</table>\n",
              "</div>"
            ],
            "text/plain": [
              "                  C         D\n",
              "A   B                        \n",
              "bar one    0.094634  0.397462\n",
              "    three -1.921382  0.781332\n",
              "    two    0.312066  0.190246\n",
              "foo one    0.483580  1.235050\n",
              "    three -0.060321 -1.961130\n",
              "    two   -0.075375 -2.361186"
            ]
          },
          "metadata": {},
          "execution_count": 59
        }
      ]
    },
    {
      "cell_type": "code",
      "metadata": {
        "colab": {
          "base_uri": "https://localhost:8080/",
          "height": 263
        },
        "id": "TQkxNNVedulv",
        "outputId": "1ad13a1a-03b3-4e7a-ec23-902b754bf243"
      },
      "source": [
        "df.groupby(['A','B']).count()"
      ],
      "execution_count": null,
      "outputs": [
        {
          "output_type": "execute_result",
          "data": {
            "text/html": [
              "<div>\n",
              "<style scoped>\n",
              "    .dataframe tbody tr th:only-of-type {\n",
              "        vertical-align: middle;\n",
              "    }\n",
              "\n",
              "    .dataframe tbody tr th {\n",
              "        vertical-align: top;\n",
              "    }\n",
              "\n",
              "    .dataframe thead th {\n",
              "        text-align: right;\n",
              "    }\n",
              "</style>\n",
              "<table border=\"1\" class=\"dataframe\">\n",
              "  <thead>\n",
              "    <tr style=\"text-align: right;\">\n",
              "      <th></th>\n",
              "      <th></th>\n",
              "      <th>C</th>\n",
              "      <th>D</th>\n",
              "    </tr>\n",
              "    <tr>\n",
              "      <th>A</th>\n",
              "      <th>B</th>\n",
              "      <th></th>\n",
              "      <th></th>\n",
              "    </tr>\n",
              "  </thead>\n",
              "  <tbody>\n",
              "    <tr>\n",
              "      <th rowspan=\"3\" valign=\"top\">bar</th>\n",
              "      <th>one</th>\n",
              "      <td>1</td>\n",
              "      <td>1</td>\n",
              "    </tr>\n",
              "    <tr>\n",
              "      <th>three</th>\n",
              "      <td>1</td>\n",
              "      <td>1</td>\n",
              "    </tr>\n",
              "    <tr>\n",
              "      <th>two</th>\n",
              "      <td>1</td>\n",
              "      <td>1</td>\n",
              "    </tr>\n",
              "    <tr>\n",
              "      <th rowspan=\"3\" valign=\"top\">foo</th>\n",
              "      <th>one</th>\n",
              "      <td>2</td>\n",
              "      <td>2</td>\n",
              "    </tr>\n",
              "    <tr>\n",
              "      <th>three</th>\n",
              "      <td>1</td>\n",
              "      <td>1</td>\n",
              "    </tr>\n",
              "    <tr>\n",
              "      <th>two</th>\n",
              "      <td>2</td>\n",
              "      <td>2</td>\n",
              "    </tr>\n",
              "  </tbody>\n",
              "</table>\n",
              "</div>"
            ],
            "text/plain": [
              "           C  D\n",
              "A   B          \n",
              "bar one    1  1\n",
              "    three  1  1\n",
              "    two    1  1\n",
              "foo one    2  2\n",
              "    three  1  1\n",
              "    two    2  2"
            ]
          },
          "metadata": {},
          "execution_count": 60
        }
      ]
    },
    {
      "cell_type": "code",
      "metadata": {
        "colab": {
          "base_uri": "https://localhost:8080/",
          "height": 294
        },
        "id": "G-yeKOn0fR8m",
        "outputId": "b465d673-6f6f-4ae9-9d06-2e7168a5188f"
      },
      "source": [
        "df"
      ],
      "execution_count": null,
      "outputs": [
        {
          "output_type": "execute_result",
          "data": {
            "text/html": [
              "<div>\n",
              "<style scoped>\n",
              "    .dataframe tbody tr th:only-of-type {\n",
              "        vertical-align: middle;\n",
              "    }\n",
              "\n",
              "    .dataframe tbody tr th {\n",
              "        vertical-align: top;\n",
              "    }\n",
              "\n",
              "    .dataframe thead th {\n",
              "        text-align: right;\n",
              "    }\n",
              "</style>\n",
              "<table border=\"1\" class=\"dataframe\">\n",
              "  <thead>\n",
              "    <tr style=\"text-align: right;\">\n",
              "      <th></th>\n",
              "      <th>A</th>\n",
              "      <th>B</th>\n",
              "      <th>C</th>\n",
              "      <th>D</th>\n",
              "    </tr>\n",
              "  </thead>\n",
              "  <tbody>\n",
              "    <tr>\n",
              "      <th>0</th>\n",
              "      <td>foo</td>\n",
              "      <td>one</td>\n",
              "      <td>-0.437513</td>\n",
              "      <td>0.131093</td>\n",
              "    </tr>\n",
              "    <tr>\n",
              "      <th>1</th>\n",
              "      <td>bar</td>\n",
              "      <td>one</td>\n",
              "      <td>0.094634</td>\n",
              "      <td>0.397462</td>\n",
              "    </tr>\n",
              "    <tr>\n",
              "      <th>2</th>\n",
              "      <td>foo</td>\n",
              "      <td>two</td>\n",
              "      <td>0.160622</td>\n",
              "      <td>-1.512517</td>\n",
              "    </tr>\n",
              "    <tr>\n",
              "      <th>3</th>\n",
              "      <td>bar</td>\n",
              "      <td>three</td>\n",
              "      <td>-1.921382</td>\n",
              "      <td>0.781332</td>\n",
              "    </tr>\n",
              "    <tr>\n",
              "      <th>4</th>\n",
              "      <td>foo</td>\n",
              "      <td>two</td>\n",
              "      <td>-0.235997</td>\n",
              "      <td>-0.848669</td>\n",
              "    </tr>\n",
              "    <tr>\n",
              "      <th>5</th>\n",
              "      <td>bar</td>\n",
              "      <td>two</td>\n",
              "      <td>0.312066</td>\n",
              "      <td>0.190246</td>\n",
              "    </tr>\n",
              "    <tr>\n",
              "      <th>6</th>\n",
              "      <td>foo</td>\n",
              "      <td>one</td>\n",
              "      <td>0.921093</td>\n",
              "      <td>1.103956</td>\n",
              "    </tr>\n",
              "    <tr>\n",
              "      <th>7</th>\n",
              "      <td>foo</td>\n",
              "      <td>three</td>\n",
              "      <td>-0.060321</td>\n",
              "      <td>-1.961130</td>\n",
              "    </tr>\n",
              "  </tbody>\n",
              "</table>\n",
              "</div>"
            ],
            "text/plain": [
              "     A      B         C         D\n",
              "0  foo    one -0.437513  0.131093\n",
              "1  bar    one  0.094634  0.397462\n",
              "2  foo    two  0.160622 -1.512517\n",
              "3  bar  three -1.921382  0.781332\n",
              "4  foo    two -0.235997 -0.848669\n",
              "5  bar    two  0.312066  0.190246\n",
              "6  foo    one  0.921093  1.103956\n",
              "7  foo  three -0.060321 -1.961130"
            ]
          },
          "metadata": {},
          "execution_count": 61
        }
      ]
    },
    {
      "cell_type": "code",
      "metadata": {
        "colab": {
          "base_uri": "https://localhost:8080/",
          "height": 202
        },
        "id": "x5_LXZmXeG90",
        "outputId": "478bdc90-aedc-4e43-c6da-041880805f3a"
      },
      "source": [
        "pd.pivot_table(df, values=['C','D'], index=['B'], columns=['A'])"
      ],
      "execution_count": null,
      "outputs": [
        {
          "output_type": "execute_result",
          "data": {
            "text/html": [
              "<div>\n",
              "<style scoped>\n",
              "    .dataframe tbody tr th:only-of-type {\n",
              "        vertical-align: middle;\n",
              "    }\n",
              "\n",
              "    .dataframe tbody tr th {\n",
              "        vertical-align: top;\n",
              "    }\n",
              "\n",
              "    .dataframe thead tr th {\n",
              "        text-align: left;\n",
              "    }\n",
              "\n",
              "    .dataframe thead tr:last-of-type th {\n",
              "        text-align: right;\n",
              "    }\n",
              "</style>\n",
              "<table border=\"1\" class=\"dataframe\">\n",
              "  <thead>\n",
              "    <tr>\n",
              "      <th></th>\n",
              "      <th colspan=\"2\" halign=\"left\">C</th>\n",
              "      <th colspan=\"2\" halign=\"left\">D</th>\n",
              "    </tr>\n",
              "    <tr>\n",
              "      <th>A</th>\n",
              "      <th>bar</th>\n",
              "      <th>foo</th>\n",
              "      <th>bar</th>\n",
              "      <th>foo</th>\n",
              "    </tr>\n",
              "    <tr>\n",
              "      <th>B</th>\n",
              "      <th></th>\n",
              "      <th></th>\n",
              "      <th></th>\n",
              "      <th></th>\n",
              "    </tr>\n",
              "  </thead>\n",
              "  <tbody>\n",
              "    <tr>\n",
              "      <th>one</th>\n",
              "      <td>0.094634</td>\n",
              "      <td>0.241790</td>\n",
              "      <td>0.397462</td>\n",
              "      <td>0.617525</td>\n",
              "    </tr>\n",
              "    <tr>\n",
              "      <th>three</th>\n",
              "      <td>-1.921382</td>\n",
              "      <td>-0.060321</td>\n",
              "      <td>0.781332</td>\n",
              "      <td>-1.961130</td>\n",
              "    </tr>\n",
              "    <tr>\n",
              "      <th>two</th>\n",
              "      <td>0.312066</td>\n",
              "      <td>-0.037687</td>\n",
              "      <td>0.190246</td>\n",
              "      <td>-1.180593</td>\n",
              "    </tr>\n",
              "  </tbody>\n",
              "</table>\n",
              "</div>"
            ],
            "text/plain": [
              "              C                   D          \n",
              "A           bar       foo       bar       foo\n",
              "B                                            \n",
              "one    0.094634  0.241790  0.397462  0.617525\n",
              "three -1.921382 -0.060321  0.781332 -1.961130\n",
              "two    0.312066 -0.037687  0.190246 -1.180593"
            ]
          },
          "metadata": {},
          "execution_count": 62
        }
      ]
    },
    {
      "cell_type": "code",
      "metadata": {
        "colab": {
          "base_uri": "https://localhost:8080/",
          "height": 298
        },
        "id": "-pAl5GjZekfn",
        "outputId": "c12db6a7-85b9-4699-c2ab-8f17c5c9fd44"
      },
      "source": [
        "# time series plot\n",
        "ts = pd.Series(np.random.randn(1000), index=pd.date_range('1/1/2000', periods=1000))\n",
        "ts = ts.cumsum()\n",
        "ts.plot()"
      ],
      "execution_count": null,
      "outputs": [
        {
          "output_type": "execute_result",
          "data": {
            "text/plain": [
              "<matplotlib.axes._subplots.AxesSubplot at 0x7f272b9fc610>"
            ]
          },
          "metadata": {},
          "execution_count": 63
        },
        {
          "output_type": "display_data",
          "data": {
            "image/png": "[encoded data removed]",
            "text/plain": [
              "<Figure size 432x288 with 1 Axes>"
            ]
          },
          "metadata": {
            "needs_background": "light"
          }
        }
      ]
    },
    {
      "cell_type": "code",
      "metadata": {
        "colab": {
          "base_uri": "https://localhost:8080/",
          "height": 312
        },
        "id": "3_Mfzs8wgA3B",
        "outputId": "51534d8f-1d40-48c0-9490-0ccd21ea1303"
      },
      "source": [
        "# plot with a data frame\n",
        "df = pd.DataFrame(np.random.randn(1000, 4), index=ts.index, columns=['A', 'B', 'C', 'D'])\n",
        "df = df.cumsum()\n",
        "plt.figure(); df.plot(); plt.legend(loc='best')"
      ],
      "execution_count": null,
      "outputs": [
        {
          "output_type": "execute_result",
          "data": {
            "text/plain": [
              "<matplotlib.legend.Legend at 0x7f272b432bd0>"
            ]
          },
          "metadata": {},
          "execution_count": 64
        },
        {
          "output_type": "display_data",
          "data": {
            "text/plain": [
              "<Figure size 432x288 with 0 Axes>"
            ]
          },
          "metadata": {}
        },
        {
          "output_type": "display_data",
          "data": {
            "image/png": "[encoded data removed]",
            "text/plain": [
              "<Figure size 432x288 with 1 Axes>"
            ]
          },
          "metadata": {
            "needs_background": "light"
          }
        }
      ]
    },
    {
      "cell_type": "code",
      "metadata": {
        "colab": {
          "base_uri": "https://localhost:8080/",
          "height": 414
        },
        "id": "L3DFtB-YgIPB",
        "outputId": "8a728648-6173-4d7d-da16-54f57f1e35c6"
      },
      "source": [
        "df"
      ],
      "execution_count": null,
      "outputs": [
        {
          "output_type": "execute_result",
          "data": {
            "text/html": [
              "<div>\n",
              "<style scoped>\n",
              "    .dataframe tbody tr th:only-of-type {\n",
              "        vertical-align: middle;\n",
              "    }\n",
              "\n",
              "    .dataframe tbody tr th {\n",
              "        vertical-align: top;\n",
              "    }\n",
              "\n",
              "    .dataframe thead th {\n",
              "        text-align: right;\n",
              "    }\n",
              "</style>\n",
              "<table border=\"1\" class=\"dataframe\">\n",
              "  <thead>\n",
              "    <tr style=\"text-align: right;\">\n",
              "      <th></th>\n",
              "      <th>A</th>\n",
              "      <th>B</th>\n",
              "      <th>C</th>\n",
              "      <th>D</th>\n",
              "    </tr>\n",
              "  </thead>\n",
              "  <tbody>\n",
              "    <tr>\n",
              "      <th>2000-01-01</th>\n",
              "      <td>0.633019</td>\n",
              "      <td>-1.021703</td>\n",
              "      <td>0.516200</td>\n",
              "      <td>0.480275</td>\n",
              "    </tr>\n",
              "    <tr>\n",
              "      <th>2000-01-02</th>\n",
              "      <td>0.998082</td>\n",
              "      <td>-1.105184</td>\n",
              "      <td>0.739020</td>\n",
              "      <td>1.019033</td>\n",
              "    </tr>\n",
              "    <tr>\n",
              "      <th>2000-01-03</th>\n",
              "      <td>1.120512</td>\n",
              "      <td>-2.289237</td>\n",
              "      <td>1.020743</td>\n",
              "      <td>0.273638</td>\n",
              "    </tr>\n",
              "    <tr>\n",
              "      <th>2000-01-04</th>\n",
              "      <td>-0.186306</td>\n",
              "      <td>-2.316918</td>\n",
              "      <td>3.093662</td>\n",
              "      <td>1.244989</td>\n",
              "    </tr>\n",
              "    <tr>\n",
              "      <th>2000-01-05</th>\n",
              "      <td>0.542220</td>\n",
              "      <td>-3.053045</td>\n",
              "      <td>2.967261</td>\n",
              "      <td>1.033836</td>\n",
              "    </tr>\n",
              "    <tr>\n",
              "      <th>...</th>\n",
              "      <td>...</td>\n",
              "      <td>...</td>\n",
              "      <td>...</td>\n",
              "      <td>...</td>\n",
              "    </tr>\n",
              "    <tr>\n",
              "      <th>2002-09-22</th>\n",
              "      <td>-30.294339</td>\n",
              "      <td>17.213719</td>\n",
              "      <td>13.738843</td>\n",
              "      <td>-15.598257</td>\n",
              "    </tr>\n",
              "    <tr>\n",
              "      <th>2002-09-23</th>\n",
              "      <td>-30.788629</td>\n",
              "      <td>15.979184</td>\n",
              "      <td>14.929828</td>\n",
              "      <td>-15.485670</td>\n",
              "    </tr>\n",
              "    <tr>\n",
              "      <th>2002-09-24</th>\n",
              "      <td>-32.105026</td>\n",
              "      <td>17.157609</td>\n",
              "      <td>16.259038</td>\n",
              "      <td>-16.514404</td>\n",
              "    </tr>\n",
              "    <tr>\n",
              "      <th>2002-09-25</th>\n",
              "      <td>-30.965039</td>\n",
              "      <td>16.608336</td>\n",
              "      <td>15.252032</td>\n",
              "      <td>-17.203844</td>\n",
              "    </tr>\n",
              "    <tr>\n",
              "      <th>2002-09-26</th>\n",
              "      <td>-31.351841</td>\n",
              "      <td>15.617386</td>\n",
              "      <td>14.414552</td>\n",
              "      <td>-17.753590</td>\n",
              "    </tr>\n",
              "  </tbody>\n",
              "</table>\n",
              "<p>1000 rows × 4 columns</p>\n",
              "</div>"
            ],
            "text/plain": [
              "                    A          B          C          D\n",
              "2000-01-01   0.633019  -1.021703   0.516200   0.480275\n",
              "2000-01-02   0.998082  -1.105184   0.739020   1.019033\n",
              "2000-01-03   1.120512  -2.289237   1.020743   0.273638\n",
              "2000-01-04  -0.186306  -2.316918   3.093662   1.244989\n",
              "2000-01-05   0.542220  -3.053045   2.967261   1.033836\n",
              "...               ...        ...        ...        ...\n",
              "2002-09-22 -30.294339  17.213719  13.738843 -15.598257\n",
              "2002-09-23 -30.788629  15.979184  14.929828 -15.485670\n",
              "2002-09-24 -32.105026  17.157609  16.259038 -16.514404\n",
              "2002-09-25 -30.965039  16.608336  15.252032 -17.203844\n",
              "2002-09-26 -31.351841  15.617386  14.414552 -17.753590\n",
              "\n",
              "[1000 rows x 4 columns]"
            ]
          },
          "metadata": {},
          "execution_count": 65
        }
      ]
    },
    {
      "cell_type": "code",
      "metadata": {
        "id": "4tumgMzFgJiY"
      },
      "source": [
        ""
      ],
      "execution_count": null,
      "outputs": []
    },
    {
      "cell_type": "code",
      "metadata": {
        "colab": {
          "base_uri": "https://localhost:8080/"
        },
        "id": "HZpk12C2VXDC",
        "outputId": "1fde1734-b8e9-4b34-e323-1ddd4c7bb817"
      },
      "source": [
        "np.zeros([3,3], dtype='float32').reshape(1,9)"
      ],
      "execution_count": null,
      "outputs": [
        {
          "output_type": "execute_result",
          "data": {
            "text/plain": [
              "array([[0., 0., 0., 0., 0., 0., 0., 0., 0.]], dtype=float32)"
            ]
          },
          "metadata": {},
          "execution_count": 70
        }
      ]
    },
    {
      "cell_type": "code",
      "metadata": {
        "colab": {
          "base_uri": "https://localhost:8080/"
        },
        "id": "GyDiyzFPWc5u",
        "outputId": "9b72eef6-e732-449e-cdc5-87dad6d96f4d"
      },
      "source": [
        "a = np.full((5,5), 36)"
      ],
      "execution_count": null,
      "outputs": [
        {
          "output_type": "execute_result",
          "data": {
            "text/plain": [
              "array([[36, 36, 36, 36, 36],\n",
              "       [36, 36, 36, 36, 36],\n",
              "       [36, 36, 36, 36, 36],\n",
              "       [36, 36, 36, 36, 36],\n",
              "       [36, 36, 36, 36, 36]])"
            ]
          },
          "metadata": {},
          "execution_count": 71
        }
      ]
    },
    {
      "cell_type": "code",
      "metadata": {
        "id": "3LOuHKa-XDRR"
      },
      "source": [
        "norm = np.random.random( (20,20))"
      ],
      "execution_count": null,
      "outputs": []
    },
    {
      "cell_type": "code",
      "metadata": {
        "colab": {
          "base_uri": "https://localhost:8080/"
        },
        "id": "YGjzAbZWXH-t",
        "outputId": "d1e52bf9-6374-47dc-d5f3-b606dda23289"
      },
      "source": [
        "np.random."
      ],
      "execution_count": null,
      "outputs": [
        {
          "output_type": "execute_result",
          "data": {
            "text/plain": [
              "2.6925472480024712"
            ]
          },
          "metadata": {},
          "execution_count": 77
        }
      ]
    }
  ]
}